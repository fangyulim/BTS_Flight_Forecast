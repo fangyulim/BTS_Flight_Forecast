{
 "cells": [
  {
   "cell_type": "code",
   "execution_count": 1,
   "id": "7e79b283-ab92-4fa2-96eb-b2cb1517730b",
   "metadata": {},
   "outputs": [],
   "source": [
    "import delay_predictor\n",
    "import data_processing\n",
    "import pandas as pd\n",
    "import numpy as np\n",
    "import scipy\n",
    "import random\n",
    "import pickle"
   ]
  },
  {
   "cell_type": "code",
   "execution_count": 2,
   "id": "b09c2e42-6976-4b58-80cb-9e158965f367",
   "metadata": {},
   "outputs": [],
   "source": [
    "delay_df = pd.read_pickle(\"../resources/generated/pickles/combined_flight_data\")"
   ]
  },
  {
   "cell_type": "code",
   "execution_count": 10,
   "id": "45b92215-92b9-4a21-8ca0-7ff079aaaa6f",
   "metadata": {},
   "outputs": [
    {
     "data": {
      "text/html": [
       "<div>\n",
       "<style scoped>\n",
       "    .dataframe tbody tr th:only-of-type {\n",
       "        vertical-align: middle;\n",
       "    }\n",
       "\n",
       "    .dataframe tbody tr th {\n",
       "        vertical-align: top;\n",
       "    }\n",
       "\n",
       "    .dataframe thead th {\n",
       "        text-align: right;\n",
       "    }\n",
       "</style>\n",
       "<table border=\"1\" class=\"dataframe\">\n",
       "  <thead>\n",
       "    <tr style=\"text-align: right;\">\n",
       "      <th></th>\n",
       "      <th>index</th>\n",
       "      <th>Year</th>\n",
       "      <th>Quarter</th>\n",
       "      <th>Month</th>\n",
       "      <th>DayofMonth</th>\n",
       "      <th>DayOfWeek</th>\n",
       "      <th>FlightDate</th>\n",
       "      <th>Marketing_Airline_Network</th>\n",
       "      <th>Operated_or_Branded_Code_Share_Partners</th>\n",
       "      <th>DOT_ID_Marketing_Airline</th>\n",
       "      <th>...</th>\n",
       "      <th>wdir_cardinal</th>\n",
       "      <th>gust</th>\n",
       "      <th>wspd</th>\n",
       "      <th>pressure</th>\n",
       "      <th>precip_hrly</th>\n",
       "      <th>wx_phrase</th>\n",
       "      <th>location_id</th>\n",
       "      <th>record_start_date</th>\n",
       "      <th>record_end_date</th>\n",
       "      <th>airport_code</th>\n",
       "    </tr>\n",
       "  </thead>\n",
       "  <tbody>\n",
       "    <tr>\n",
       "      <th>0</th>\n",
       "      <td>5693</td>\n",
       "      <td>2022</td>\n",
       "      <td>2</td>\n",
       "      <td>5</td>\n",
       "      <td>26</td>\n",
       "      <td>4</td>\n",
       "      <td>2022-05-26</td>\n",
       "      <td>AA</td>\n",
       "      <td>AA_CODESHARE</td>\n",
       "      <td>19805</td>\n",
       "      <td>...</td>\n",
       "      <td>S</td>\n",
       "      <td>0.0</td>\n",
       "      <td>5.0</td>\n",
       "      <td>29.45</td>\n",
       "      <td>0.0</td>\n",
       "      <td>Light Rain</td>\n",
       "      <td>SEA</td>\n",
       "      <td>2022-05-26 15:53:00</td>\n",
       "      <td>2022-05-26 17:53:00</td>\n",
       "      <td>SEA</td>\n",
       "    </tr>\n",
       "    <tr>\n",
       "      <th>1</th>\n",
       "      <td>5697</td>\n",
       "      <td>2022</td>\n",
       "      <td>2</td>\n",
       "      <td>5</td>\n",
       "      <td>26</td>\n",
       "      <td>4</td>\n",
       "      <td>2022-05-26</td>\n",
       "      <td>AA</td>\n",
       "      <td>AA_CODESHARE</td>\n",
       "      <td>19805</td>\n",
       "      <td>...</td>\n",
       "      <td>CALM</td>\n",
       "      <td>0.0</td>\n",
       "      <td>0.0</td>\n",
       "      <td>29.46</td>\n",
       "      <td>0.0</td>\n",
       "      <td>Mostly Cloudy</td>\n",
       "      <td>SEA</td>\n",
       "      <td>2022-05-26 11:53:00</td>\n",
       "      <td>2022-05-26 13:53:00</td>\n",
       "      <td>SEA</td>\n",
       "    </tr>\n",
       "    <tr>\n",
       "      <th>2</th>\n",
       "      <td>5733</td>\n",
       "      <td>2022</td>\n",
       "      <td>2</td>\n",
       "      <td>5</td>\n",
       "      <td>27</td>\n",
       "      <td>5</td>\n",
       "      <td>2022-05-27</td>\n",
       "      <td>AA</td>\n",
       "      <td>AA_CODESHARE</td>\n",
       "      <td>19805</td>\n",
       "      <td>...</td>\n",
       "      <td>S</td>\n",
       "      <td>0.0</td>\n",
       "      <td>7.0</td>\n",
       "      <td>29.92</td>\n",
       "      <td>0.02</td>\n",
       "      <td>Light Rain</td>\n",
       "      <td>PDX</td>\n",
       "      <td>2022-05-27 12:53:00</td>\n",
       "      <td>2022-05-27 14:53:00</td>\n",
       "      <td>PDX</td>\n",
       "    </tr>\n",
       "    <tr>\n",
       "      <th>3</th>\n",
       "      <td>5781</td>\n",
       "      <td>2022</td>\n",
       "      <td>2</td>\n",
       "      <td>5</td>\n",
       "      <td>27</td>\n",
       "      <td>5</td>\n",
       "      <td>2022-05-27</td>\n",
       "      <td>AA</td>\n",
       "      <td>AA_CODESHARE</td>\n",
       "      <td>19805</td>\n",
       "      <td>...</td>\n",
       "      <td>SSW</td>\n",
       "      <td>0.0</td>\n",
       "      <td>8.0</td>\n",
       "      <td>29.84</td>\n",
       "      <td>0.0</td>\n",
       "      <td>Cloudy</td>\n",
       "      <td>PDX</td>\n",
       "      <td>2022-05-27 07:53:00</td>\n",
       "      <td>2022-05-27 09:53:00</td>\n",
       "      <td>PDX</td>\n",
       "    </tr>\n",
       "    <tr>\n",
       "      <th>4</th>\n",
       "      <td>5785</td>\n",
       "      <td>2022</td>\n",
       "      <td>2</td>\n",
       "      <td>5</td>\n",
       "      <td>27</td>\n",
       "      <td>5</td>\n",
       "      <td>2022-05-27</td>\n",
       "      <td>AA</td>\n",
       "      <td>AA_CODESHARE</td>\n",
       "      <td>19805</td>\n",
       "      <td>...</td>\n",
       "      <td>SSW</td>\n",
       "      <td>0.0</td>\n",
       "      <td>10.0</td>\n",
       "      <td>29.48</td>\n",
       "      <td>0.0</td>\n",
       "      <td>Mostly Cloudy</td>\n",
       "      <td>SEA</td>\n",
       "      <td>2022-05-27 15:53:00</td>\n",
       "      <td>2022-05-27 17:53:00</td>\n",
       "      <td>SEA</td>\n",
       "    </tr>\n",
       "  </tbody>\n",
       "</table>\n",
       "<p>5 rows × 82 columns</p>\n",
       "</div>"
      ],
      "text/plain": [
       "   index  Year  Quarter  Month  DayofMonth  DayOfWeek  FlightDate  \\\n",
       "0   5693  2022        2      5          26          4  2022-05-26   \n",
       "1   5697  2022        2      5          26          4  2022-05-26   \n",
       "2   5733  2022        2      5          27          5  2022-05-27   \n",
       "3   5781  2022        2      5          27          5  2022-05-27   \n",
       "4   5785  2022        2      5          27          5  2022-05-27   \n",
       "\n",
       "  Marketing_Airline_Network Operated_or_Branded_Code_Share_Partners  \\\n",
       "0                        AA                            AA_CODESHARE   \n",
       "1                        AA                            AA_CODESHARE   \n",
       "2                        AA                            AA_CODESHARE   \n",
       "3                        AA                            AA_CODESHARE   \n",
       "4                        AA                            AA_CODESHARE   \n",
       "\n",
       "   DOT_ID_Marketing_Airline  ... wdir_cardinal  gust  wspd  pressure  \\\n",
       "0                     19805  ...             S   0.0   5.0     29.45   \n",
       "1                     19805  ...          CALM   0.0   0.0     29.46   \n",
       "2                     19805  ...             S   0.0   7.0     29.92   \n",
       "3                     19805  ...           SSW   0.0   8.0     29.84   \n",
       "4                     19805  ...           SSW   0.0  10.0     29.48   \n",
       "\n",
       "  precip_hrly      wx_phrase  location_id    record_start_date  \\\n",
       "0         0.0     Light Rain          SEA  2022-05-26 15:53:00   \n",
       "1         0.0  Mostly Cloudy          SEA  2022-05-26 11:53:00   \n",
       "2        0.02     Light Rain          PDX  2022-05-27 12:53:00   \n",
       "3         0.0         Cloudy          PDX  2022-05-27 07:53:00   \n",
       "4         0.0  Mostly Cloudy          SEA  2022-05-27 15:53:00   \n",
       "\n",
       "       record_end_date  airport_code  \n",
       "0  2022-05-26 17:53:00           SEA  \n",
       "1  2022-05-26 13:53:00           SEA  \n",
       "2  2022-05-27 14:53:00           PDX  \n",
       "3  2022-05-27 09:53:00           PDX  \n",
       "4  2022-05-27 17:53:00           SEA  \n",
       "\n",
       "[5 rows x 82 columns]"
      ]
     },
     "execution_count": 10,
     "metadata": {},
     "output_type": "execute_result"
    }
   ],
   "source": [
    "delay_df.head()"
   ]
  },
  {
   "cell_type": "code",
   "execution_count": 11,
   "id": "699282de-b858-4a9f-b8e6-d6b74c194d42",
   "metadata": {},
   "outputs": [],
   "source": [
    "RELEVANT_COLS = ['Year', 'Month', 'DayofMonth',\n",
    "                 'Origin', 'temp', 'dewPt', 'day_ind',\n",
    "                 'rh', 'wdir_cardinal', 'gust', 'wspd', 'pressure', 'wx_phrase']"
   ]
  },
  {
   "cell_type": "code",
   "execution_count": 12,
   "id": "20a6ae64-c7d4-4739-b210-5903d6d103f4",
   "metadata": {},
   "outputs": [],
   "source": [
    "delay_df = delay_df[RELEVANT_COLS]"
   ]
  },
  {
   "cell_type": "code",
   "execution_count": 19,
   "id": "254cb757-6c68-4e3d-b050-17ef61dfdb5d",
   "metadata": {},
   "outputs": [
    {
     "name": "stderr",
     "output_type": "stream",
     "text": [
      "C:\\Users\\bruno\\miniconda3\\Lib\\site-packages\\sklearn\\preprocessing\\_encoders.py:227: UserWarning: Found unknown categories in columns [2, 4, 6, 8] during transform. These unknown categories will be encoded as all zeros\n",
      "  warnings.warn(\n"
     ]
    }
   ],
   "source": [
    "out = delay_predictor.pre_process_dataset(df_to_process=pd.read_pickle(\"../resources/generated/pickles/combined_flight_data\"),\n",
    "                                          relevant_columns=RELEVANT_COLS,\n",
    "                                          target_col=\"ArrDel15\",\n",
    "                                          encoder_path = \"../resources/testing_resources/encoder.pkl\")"
   ]
  },
  {
   "cell_type": "code",
   "execution_count": 25,
   "id": "1b593a26-1d34-4085-8620-8b382e2f2db1",
   "metadata": {},
   "outputs": [
    {
     "data": {
      "text/plain": [
       "scipy.sparse._csr.csr_matrix"
      ]
     },
     "execution_count": 25,
     "metadata": {},
     "output_type": "execute_result"
    }
   ],
   "source": [
    "type(out[0])"
   ]
  },
  {
   "cell_type": "code",
   "execution_count": 28,
   "id": "e4e11fad-98a0-4491-b710-a15e9f28d186",
   "metadata": {},
   "outputs": [
    {
     "name": "stderr",
     "output_type": "stream",
     "text": [
      "C:\\Users\\bruno\\AppData\\Local\\Temp\\ipykernel_61736\\2334584015.py:1: DeprecationWarning: Please use `csr_matrix` from the `scipy.sparse` namespace, the `scipy.sparse.csr` namespace is deprecated.\n",
      "  isinstance(out[0], scipy.sparse.csr.csr_matrix)\n"
     ]
    },
    {
     "data": {
      "text/plain": [
       "True"
      ]
     },
     "execution_count": 28,
     "metadata": {},
     "output_type": "execute_result"
    }
   ],
   "source": [
    "isinstance(out[0], scipy.sparse.csr.csr_matrix)"
   ]
  },
  {
   "cell_type": "code",
   "execution_count": 21,
   "id": "02a647ac-3637-4b31-b99b-5fdbd8d5d3c3",
   "metadata": {},
   "outputs": [
    {
     "data": {
      "text/plain": [
       "pandas.core.frame.DataFrame"
      ]
     },
     "execution_count": 21,
     "metadata": {},
     "output_type": "execute_result"
    }
   ],
   "source": [
    "type(out[1])"
   ]
  },
  {
   "cell_type": "code",
   "execution_count": 34,
   "id": "316ed126-3feb-4085-ba63-16a5358ea86a",
   "metadata": {},
   "outputs": [
    {
     "data": {
      "text/plain": [
       "True"
      ]
     },
     "execution_count": 34,
     "metadata": {},
     "output_type": "execute_result"
    }
   ],
   "source": [
    "isinstance(out[1], pd.DataFrame) or \\\n",
    "isinstance(out[3], pd.DataFrame)"
   ]
  },
  {
   "cell_type": "code",
   "execution_count": 6,
   "id": "0678186a-2446-4434-ac2a-e42157d46a11",
   "metadata": {},
   "outputs": [
    {
     "name": "stderr",
     "output_type": "stream",
     "text": [
      "C:\\Users\\bruno\\miniconda3\\Lib\\site-packages\\sklearn\\preprocessing\\_encoders.py:227: UserWarning: Found unknown categories in columns [7] during transform. These unknown categories will be encoded as all zeros\n",
      "  warnings.warn(\n",
      "C:\\Users\\bruno\\miniconda3\\Lib\\site-packages\\sklearn\\preprocessing\\_encoders.py:227: UserWarning: Found unknown categories in columns [4, 9] during transform. These unknown categories will be encoded as all zeros\n",
      "  warnings.warn(\n"
     ]
    },
    {
     "data": {
      "image/png": "[encoded data removed]",
      "text/plain": [
       "<Figure size 640x480 with 2 Axes>"
      ]
     },
     "metadata": {},
     "output_type": "display_data"
    }
   ],
   "source": [
    "delay_modelling_2.create_model_from_dataset(\"../combined_flight_data\")"
   ]
  },
  {
   "cell_type": "code",
   "execution_count": 7,
   "id": "993fb003-1f3d-4948-831f-8c42e8aeeb72",
   "metadata": {},
   "outputs": [
    {
     "data": {
      "text/plain": [
       "array([[0.66314359, 0.33685641]])"
      ]
     },
     "execution_count": 7,
     "metadata": {},
     "output_type": "execute_result"
    }
   ],
   "source": [
    "delay_modelling_2.predict_delay_probability(delay_df.head(1))"
   ]
  },
  {
   "cell_type": "code",
   "execution_count": 8,
   "id": "e32a3ba0-a438-4878-91b7-b391e03da961",
   "metadata": {},
   "outputs": [
    {
     "data": {
      "text/plain": [
       "array([15.80621282])"
      ]
     },
     "execution_count": 8,
     "metadata": {},
     "output_type": "execute_result"
    }
   ],
   "source": [
    "delay_modelling_2.predict_delay_severity(delay_df.head(1))"
   ]
  },
  {
   "cell_type": "code",
   "execution_count": 15,
   "id": "a7c53999-dea7-465c-b308-890268e3e79c",
   "metadata": {},
   "outputs": [
    {
     "data": {
      "text/html": [
       "<div>\n",
       "<style scoped>\n",
       "    .dataframe tbody tr th:only-of-type {\n",
       "        vertical-align: middle;\n",
       "    }\n",
       "\n",
       "    .dataframe tbody tr th {\n",
       "        vertical-align: top;\n",
       "    }\n",
       "\n",
       "    .dataframe thead th {\n",
       "        text-align: right;\n",
       "    }\n",
       "</style>\n",
       "<table border=\"1\" class=\"dataframe\">\n",
       "  <thead>\n",
       "    <tr style=\"text-align: right;\">\n",
       "      <th></th>\n",
       "      <th>Year</th>\n",
       "      <th>Month</th>\n",
       "      <th>DayofMonth</th>\n",
       "      <th>Origin</th>\n",
       "      <th>temp</th>\n",
       "      <th>dewPt</th>\n",
       "      <th>day_ind</th>\n",
       "      <th>rh</th>\n",
       "      <th>wdir_cardinal</th>\n",
       "      <th>gust</th>\n",
       "      <th>wspd</th>\n",
       "      <th>pressure</th>\n",
       "      <th>wx_phrase</th>\n",
       "    </tr>\n",
       "  </thead>\n",
       "  <tbody>\n",
       "    <tr>\n",
       "      <th>0</th>\n",
       "      <td>2022</td>\n",
       "      <td>5</td>\n",
       "      <td>26</td>\n",
       "      <td>SEA</td>\n",
       "      <td>55.0</td>\n",
       "      <td>50.0</td>\n",
       "      <td>D</td>\n",
       "      <td>83.0</td>\n",
       "      <td>S</td>\n",
       "      <td>0.0</td>\n",
       "      <td>5.0</td>\n",
       "      <td>29.45</td>\n",
       "      <td>Light Rain</td>\n",
       "    </tr>\n",
       "  </tbody>\n",
       "</table>\n",
       "</div>"
      ],
      "text/plain": [
       "   Year Month DayofMonth Origin  temp dewPt day_ind    rh wdir_cardinal gust  \\\n",
       "0  2022     5         26    SEA  55.0  50.0       D  83.0             S  0.0   \n",
       "\n",
       "  wspd pressure   wx_phrase  \n",
       "0  5.0    29.45  Light Rain  "
      ]
     },
     "execution_count": 15,
     "metadata": {},
     "output_type": "execute_result"
    }
   ],
   "source": [
    "cols = ['Year','Month',\n",
    " 'DayofMonth','Origin',\n",
    " 'temp','dewPt',\n",
    " 'day_ind','rh',\n",
    " 'wdir_cardinal','gust',\n",
    " 'wspd','pressure',\n",
    " 'wx_phrase']\n",
    "vals = [2022, 5, 26, 'SEA', 55.0, 50.0, 'D', 83.0, 'S', 0.0, 5.0, 29.45, 'Light Rain']\n",
    "test = pd.DataFrame(columns=cols)\n",
    "test.loc[0,:] = vals\n",
    "test"
   ]
  },
  {
   "cell_type": "code",
   "execution_count": 16,
   "id": "190e38bd-8130-482b-b615-073abb19832f",
   "metadata": {},
   "outputs": [
    {
     "data": {
      "text/html": [
       "<div>\n",
       "<style scoped>\n",
       "    .dataframe tbody tr th:only-of-type {\n",
       "        vertical-align: middle;\n",
       "    }\n",
       "\n",
       "    .dataframe tbody tr th {\n",
       "        vertical-align: top;\n",
       "    }\n",
       "\n",
       "    .dataframe thead th {\n",
       "        text-align: right;\n",
       "    }\n",
       "</style>\n",
       "<table border=\"1\" class=\"dataframe\">\n",
       "  <thead>\n",
       "    <tr style=\"text-align: right;\">\n",
       "      <th></th>\n",
       "      <th>Year</th>\n",
       "      <th>Month</th>\n",
       "      <th>DayofMonth</th>\n",
       "      <th>Origin</th>\n",
       "      <th>temp</th>\n",
       "      <th>dewPt</th>\n",
       "      <th>day_ind</th>\n",
       "      <th>rh</th>\n",
       "      <th>wdir_cardinal</th>\n",
       "      <th>gust</th>\n",
       "      <th>wspd</th>\n",
       "      <th>pressure</th>\n",
       "      <th>wx_phrase</th>\n",
       "    </tr>\n",
       "  </thead>\n",
       "  <tbody>\n",
       "    <tr>\n",
       "      <th>0</th>\n",
       "      <td>2024</td>\n",
       "      <td>3</td>\n",
       "      <td>12</td>\n",
       "      <td>BIL</td>\n",
       "      <td>10.0</td>\n",
       "      <td>-4.0</td>\n",
       "      <td>D</td>\n",
       "      <td>37.0</td>\n",
       "      <td>WNW</td>\n",
       "      <td>34.0</td>\n",
       "      <td>23.0</td>\n",
       "      <td>1005.4</td>\n",
       "      <td>M Cloudy</td>\n",
       "    </tr>\n",
       "  </tbody>\n",
       "</table>\n",
       "</div>"
      ],
      "text/plain": [
       "   Year Month DayofMonth Origin  temp dewPt day_ind    rh wdir_cardinal  gust  \\\n",
       "0  2024     3         12    BIL  10.0  -4.0       D  37.0           WNW  34.0   \n",
       "\n",
       "   wspd pressure wx_phrase  \n",
       "0  23.0   1005.4  M Cloudy  "
      ]
     },
     "execution_count": 16,
     "metadata": {},
     "output_type": "execute_result"
    }
   ],
   "source": [
    "cols = ['Year','Month',\n",
    " 'DayofMonth','Origin',\n",
    " 'temp','dewPt',\n",
    " 'day_ind','rh',\n",
    " 'wdir_cardinal','gust',\n",
    " 'wspd','pressure',\n",
    " 'wx_phrase']\n",
    "vals = [2024, 3, 12, 'BIL', 10.0, -4.0, 'D', 37.0, 'WNW', 34.0, 23.0, 1005.4, 'M Cloudy']\n",
    "test = pd.DataFrame(columns=cols)\n",
    "test.loc[0,:] = vals\n",
    "test"
   ]
  },
  {
   "cell_type": "code",
   "execution_count": 7,
   "id": "9c6ac3c2-ad81-4bdb-b48e-2933724042e7",
   "metadata": {},
   "outputs": [
    {
     "data": {
      "text/html": [
       "<div>\n",
       "<style scoped>\n",
       "    .dataframe tbody tr th:only-of-type {\n",
       "        vertical-align: middle;\n",
       "    }\n",
       "\n",
       "    .dataframe tbody tr th {\n",
       "        vertical-align: top;\n",
       "    }\n",
       "\n",
       "    .dataframe thead th {\n",
       "        text-align: right;\n",
       "    }\n",
       "</style>\n",
       "<table border=\"1\" class=\"dataframe\">\n",
       "  <thead>\n",
       "    <tr style=\"text-align: right;\">\n",
       "      <th></th>\n",
       "      <th>Year</th>\n",
       "      <th>Month</th>\n",
       "      <th>DayofMonth</th>\n",
       "      <th>Origin</th>\n",
       "      <th>temp</th>\n",
       "      <th>dewPt</th>\n",
       "      <th>day_ind</th>\n",
       "      <th>rh</th>\n",
       "      <th>wdir_cardinal</th>\n",
       "      <th>gust</th>\n",
       "      <th>wspd</th>\n",
       "      <th>pressure</th>\n",
       "      <th>wx_phrase</th>\n",
       "    </tr>\n",
       "  </thead>\n",
       "  <tbody>\n",
       "    <tr>\n",
       "      <th>0</th>\n",
       "      <td>2024</td>\n",
       "      <td>1</td>\n",
       "      <td>1</td>\n",
       "      <td>BIL</td>\n",
       "      <td>1.0</td>\n",
       "      <td>-4.0</td>\n",
       "      <td>D</td>\n",
       "      <td>1.0</td>\n",
       "      <td>WNW</td>\n",
       "      <td>0.0</td>\n",
       "      <td>0.0</td>\n",
       "      <td>1000.0</td>\n",
       "      <td>M Cloudy</td>\n",
       "    </tr>\n",
       "  </tbody>\n",
       "</table>\n",
       "</div>"
      ],
      "text/plain": [
       "   Year Month DayofMonth Origin temp dewPt day_ind   rh wdir_cardinal gust  \\\n",
       "0  2024     1          1    BIL  1.0  -4.0       D  1.0           WNW  0.0   \n",
       "\n",
       "  wspd pressure wx_phrase  \n",
       "0  0.0   1000.0  M Cloudy  "
      ]
     },
     "execution_count": 7,
     "metadata": {},
     "output_type": "execute_result"
    }
   ],
   "source": [
    "cols = ['Year','Month',\n",
    " 'DayofMonth','Origin',\n",
    " 'temp','dewPt',\n",
    " 'day_ind','rh',\n",
    " 'wdir_cardinal','gust',\n",
    " 'wspd','pressure',\n",
    " 'wx_phrase']\n",
    "vals = [2024, 1, 1, 'BIL', 1.0, -4.0, 'D', 1.0, 'WNW', 0.0, 0.0, 1000.0, 'M Cloudy']\n",
    "test = pd.DataFrame(columns=cols)\n",
    "test.loc[0,:] = vals\n",
    "test"
   ]
  },
  {
   "cell_type": "code",
   "execution_count": 9,
   "id": "15fc0b1a-61c8-4fbe-a391-00e01be3d366",
   "metadata": {},
   "outputs": [
    {
     "ename": "FileNotFoundError",
     "evalue": "[Errno 2] No such file or directory: 'resources/generated/pickles/classifier.pkl'",
     "output_type": "error",
     "traceback": [
      "\u001b[1;31m---------------------------------------------------------------------------\u001b[0m",
      "\u001b[1;31mFileNotFoundError\u001b[0m                         Traceback (most recent call last)",
      "Cell \u001b[1;32mIn[9], line 1\u001b[0m\n\u001b[1;32m----> 1\u001b[0m \u001b[43mdelay_predictor\u001b[49m\u001b[38;5;241;43m.\u001b[39;49m\u001b[43mpredict_delay_probability\u001b[49m\u001b[43m(\u001b[49m\u001b[43mtest\u001b[49m\u001b[43m)\u001b[49m\n",
      "File \u001b[1;32m~\\Documents\\MSDS\\Winter2024\\515_Software_Design\\BTS_Flight_Forecast\\flight_forecast\\utils\\delay_predictor.py:209\u001b[0m, in \u001b[0;36mpredict_delay_probability\u001b[1;34m(predictors)\u001b[0m\n\u001b[0;32m    195\u001b[0m \u001b[38;5;28;01mdef\u001b[39;00m \u001b[38;5;21mpredict_delay_probability\u001b[39m(predictors):\n\u001b[0;32m    196\u001b[0m \u001b[38;5;250m    \u001b[39m\u001b[38;5;124;03m'''\u001b[39;00m\n\u001b[0;32m    197\u001b[0m \u001b[38;5;124;03m    Predicts the probability of a given flight being delayed.\u001b[39;00m\n\u001b[0;32m    198\u001b[0m \n\u001b[1;32m   (...)\u001b[0m\n\u001b[0;32m    207\u001b[0m \u001b[38;5;124;03m    A float containing the log-probability of a flight delay.\u001b[39;00m\n\u001b[0;32m    208\u001b[0m \u001b[38;5;124;03m    '''\u001b[39;00m\n\u001b[1;32m--> 209\u001b[0m     \u001b[38;5;28;01mwith\u001b[39;00m \u001b[38;5;28;43mopen\u001b[39;49m\u001b[43m(\u001b[49m\u001b[43mPICKLE_FOLDER_PATH\u001b[49m\u001b[43m \u001b[49m\u001b[38;5;241;43m+\u001b[39;49m\u001b[43m \u001b[49m\u001b[38;5;124;43m'\u001b[39;49m\u001b[38;5;124;43m/classifier.pkl\u001b[39;49m\u001b[38;5;124;43m'\u001b[39;49m\u001b[43m,\u001b[49m\u001b[43m \u001b[49m\u001b[38;5;124;43m'\u001b[39;49m\u001b[38;5;124;43mrb\u001b[39;49m\u001b[38;5;124;43m'\u001b[39;49m\u001b[43m)\u001b[49m \u001b[38;5;28;01mas\u001b[39;00m file:\n\u001b[0;32m    210\u001b[0m         delay_predictor \u001b[38;5;241m=\u001b[39m pickle\u001b[38;5;241m.\u001b[39mload(file)\n\u001b[0;32m    211\u001b[0m     \u001b[38;5;28;01mwith\u001b[39;00m \u001b[38;5;28mopen\u001b[39m(PICKLE_FOLDER_PATH \u001b[38;5;241m+\u001b[39m \u001b[38;5;124m'\u001b[39m\u001b[38;5;124m/classification_encoder.pkl\u001b[39m\u001b[38;5;124m'\u001b[39m, \u001b[38;5;124m'\u001b[39m\u001b[38;5;124mrb\u001b[39m\u001b[38;5;124m'\u001b[39m) \u001b[38;5;28;01mas\u001b[39;00m file:\n",
      "\u001b[1;31mFileNotFoundError\u001b[0m: [Errno 2] No such file or directory: 'resources/generated/pickles/classifier.pkl'"
     ]
    }
   ],
   "source": [
    "delay_predictor.predict_delay_probability(test)"
   ]
  },
  {
   "cell_type": "code",
   "execution_count": 18,
   "id": "2f7ea721-e9c0-48af-93ed-b0ae4aa7e233",
   "metadata": {},
   "outputs": [
    {
     "name": "stderr",
     "output_type": "stream",
     "text": [
      "C:\\Users\\bruno\\miniconda3\\Lib\\site-packages\\sklearn\\preprocessing\\_encoders.py:227: UserWarning: Found unknown categories in columns [0, 1, 2, 6, 8, 9] during transform. These unknown categories will be encoded as all zeros\n",
      "  warnings.warn(\n"
     ]
    },
    {
     "data": {
      "text/plain": [
       "array([11.7341811])"
      ]
     },
     "execution_count": 18,
     "metadata": {},
     "output_type": "execute_result"
    }
   ],
   "source": [
    "delay_modelling_2.predict_delay_severity(test)"
   ]
  },
  {
   "cell_type": "code",
   "execution_count": null,
   "id": "0e99ac10-f05b-42a2-9796-d0680d8efc00",
   "metadata": {},
   "outputs": [],
   "source": [
    "delay_modelling_2"
   ]
  },
  {
   "cell_type": "code",
   "execution_count": 2,
   "id": "7fb854d2-67c2-4f7c-90d6-72131f71f428",
   "metadata": {},
   "outputs": [
    {
     "data": {
      "text/html": [
       "<div>\n",
       "<style scoped>\n",
       "    .dataframe tbody tr th:only-of-type {\n",
       "        vertical-align: middle;\n",
       "    }\n",
       "\n",
       "    .dataframe tbody tr th {\n",
       "        vertical-align: top;\n",
       "    }\n",
       "\n",
       "    .dataframe thead th {\n",
       "        text-align: right;\n",
       "    }\n",
       "</style>\n",
       "<table border=\"1\" class=\"dataframe\">\n",
       "  <thead>\n",
       "    <tr style=\"text-align: right;\">\n",
       "      <th></th>\n",
       "      <th>Year</th>\n",
       "      <th>Month</th>\n",
       "      <th>DayofMonth</th>\n",
       "    </tr>\n",
       "  </thead>\n",
       "  <tbody>\n",
       "    <tr>\n",
       "      <th>0</th>\n",
       "      <td>2022</td>\n",
       "      <td>5</td>\n",
       "      <td>26</td>\n",
       "    </tr>\n",
       "  </tbody>\n",
       "</table>\n",
       "</div>"
      ],
      "text/plain": [
       "   Year Month DayofMonth\n",
       "0  2022     5         26"
      ]
     },
     "execution_count": 2,
     "metadata": {},
     "output_type": "execute_result"
    }
   ],
   "source": [
    "cols = ['Year','Month',\n",
    " 'DayofMonth']\n",
    "vals = [2022, 5, 26]\n",
    "test = pd.DataFrame(columns=cols)\n",
    "test.loc[0,:] = vals\n",
    "test"
   ]
  },
  {
   "cell_type": "code",
   "execution_count": 4,
   "id": "548c4c7e-869e-45ee-aacb-c71658a348cb",
   "metadata": {},
   "outputs": [
    {
     "ename": "ValueError",
     "evalue": "The target column for prediction, ArrDel15, must be present in the given dataframe.",
     "output_type": "error",
     "traceback": [
      "\u001b[1;31m---------------------------------------------------------------------------\u001b[0m",
      "\u001b[1;31mValueError\u001b[0m                                Traceback (most recent call last)",
      "Cell \u001b[1;32mIn[4], line 1\u001b[0m\n\u001b[1;32m----> 1\u001b[0m \u001b[43mdelay_predictor\u001b[49m\u001b[38;5;241;43m.\u001b[39;49m\u001b[43mpre_process_dataset\u001b[49m\u001b[43m(\u001b[49m\u001b[43mtest\u001b[49m\u001b[43m,\u001b[49m\n\u001b[0;32m      2\u001b[0m \u001b[43m                                    \u001b[49m\u001b[43mrelevant_columns\u001b[49m\u001b[38;5;241;43m=\u001b[39;49m\u001b[43mtest\u001b[49m\u001b[38;5;241;43m.\u001b[39;49m\u001b[43mcolumns\u001b[49m\u001b[43m,\u001b[49m\n\u001b[0;32m      3\u001b[0m \u001b[43m                                    \u001b[49m\u001b[43mtarget_col\u001b[49m\u001b[38;5;241;43m=\u001b[39;49m\u001b[38;5;124;43m\"\u001b[39;49m\u001b[38;5;124;43mArrDel15\u001b[39;49m\u001b[38;5;124;43m\"\u001b[39;49m\u001b[43m,\u001b[49m\n\u001b[0;32m      4\u001b[0m \u001b[43m                                    \u001b[49m\u001b[43mencoder_path\u001b[49m\u001b[43m \u001b[49m\u001b[38;5;241;43m=\u001b[39;49m\u001b[43m \u001b[49m\u001b[38;5;124;43m\"\u001b[39;49m\u001b[38;5;124;43m../resources/testing_resources/encoder.pkl\u001b[39;49m\u001b[38;5;124;43m\"\u001b[39;49m\u001b[43m)\u001b[49m\n",
      "File \u001b[1;32m~\\Documents\\MSDS\\Winter2024\\515_Software_Design\\BTS_Flight_Forecast\\flight_forecast\\utils\\delay_predictor.py:56\u001b[0m, in \u001b[0;36mpre_process_dataset\u001b[1;34m(df_to_process, target_col, relevant_columns, encoder_path)\u001b[0m\n\u001b[0;32m     33\u001b[0m \u001b[38;5;250m\u001b[39m\u001b[38;5;124;03m'''\u001b[39;00m\n\u001b[0;32m     34\u001b[0m \u001b[38;5;124;03mPreprocesses flight data for use in training an sklearn model.\u001b[39;00m\n\u001b[0;32m     35\u001b[0m \n\u001b[1;32m   (...)\u001b[0m\n\u001b[0;32m     53\u001b[0m \u001b[38;5;124;03m* a Pandas Series with testing target data\u001b[39;00m\n\u001b[0;32m     54\u001b[0m \u001b[38;5;124;03m'''\u001b[39;00m\n\u001b[0;32m     55\u001b[0m \u001b[38;5;28;01mif\u001b[39;00m \u001b[38;5;129;01mnot\u001b[39;00m (target_col \u001b[38;5;129;01min\u001b[39;00m df_to_process\u001b[38;5;241m.\u001b[39mcolumns\u001b[38;5;241m.\u001b[39mtolist()):\n\u001b[1;32m---> 56\u001b[0m     \u001b[38;5;28;01mraise\u001b[39;00m \u001b[38;5;167;01mValueError\u001b[39;00m(\u001b[38;5;124mf\u001b[39m\u001b[38;5;124m\"\u001b[39m\u001b[38;5;124mThe target column for prediction, \u001b[39m\u001b[38;5;132;01m{\u001b[39;00mtarget_col\u001b[38;5;132;01m}\u001b[39;00m\u001b[38;5;124m,\u001b[39m\u001b[38;5;124m\"\u001b[39m \u001b[38;5;241m+\u001b[39m\\\n\u001b[0;32m     57\u001b[0m                      \u001b[38;5;124m\"\u001b[39m\u001b[38;5;124m must be present in the given dataframe.\u001b[39m\u001b[38;5;124m\"\u001b[39m)\n\u001b[0;32m     58\u001b[0m target_series \u001b[38;5;241m=\u001b[39m df_to_process[[target_col]]\n\u001b[0;32m     59\u001b[0m input_df \u001b[38;5;241m=\u001b[39m df_to_process\u001b[38;5;241m.\u001b[39mdrop(target_col, axis\u001b[38;5;241m=\u001b[39m\u001b[38;5;241m1\u001b[39m)\n",
      "\u001b[1;31mValueError\u001b[0m: The target column for prediction, ArrDel15, must be present in the given dataframe."
     ]
    }
   ],
   "source": [
    "delay_predictor.pre_process_dataset(test,\n",
    "                                    relevant_columns=test.columns,\n",
    "                                    target_col=\"ArrDel15\",\n",
    "                                    encoder_path = \"../resources/testing_resources/encoder.pkl\")"
   ]
  },
  {
   "cell_type": "code",
   "execution_count": 5,
   "id": "0812efad-a90d-42b2-93b9-6283d09e15bc",
   "metadata": {},
   "outputs": [
    {
     "ename": "ValueError",
     "evalue": "Found input variables with inconsistent numbers of samples: [25, 0]",
     "output_type": "error",
     "traceback": [
      "\u001b[1;31m---------------------------------------------------------------------------\u001b[0m",
      "\u001b[1;31mValueError\u001b[0m                                Traceback (most recent call last)",
      "Cell \u001b[1;32mIn[5], line 1\u001b[0m\n\u001b[1;32m----> 1\u001b[0m \u001b[43mdelay_predictor\u001b[49m\u001b[38;5;241;43m.\u001b[39;49m\u001b[43mtrain_classifier\u001b[49m\u001b[43m(\u001b[49m\u001b[43m[\u001b[49m\u001b[38;5;124;43m\"\u001b[39;49m\u001b[38;5;124;43mNot a valid sparse matrix\u001b[39;49m\u001b[38;5;124;43m\"\u001b[39;49m\u001b[43m,\u001b[49m\n\u001b[0;32m      2\u001b[0m \u001b[43m                              \u001b[49m\u001b[43mpd\u001b[49m\u001b[38;5;241;43m.\u001b[39;49m\u001b[43mDataFrame\u001b[49m\u001b[43m(\u001b[49m\u001b[43m)\u001b[49m\u001b[43m,\u001b[49m\n\u001b[0;32m      3\u001b[0m \u001b[43m                              \u001b[49m\u001b[43mscipy\u001b[49m\u001b[38;5;241;43m.\u001b[39;49m\u001b[43msparse\u001b[49m\u001b[38;5;241;43m.\u001b[39;49m\u001b[43mcsr_matrix\u001b[49m\u001b[43m(\u001b[49m\u001b[43m(\u001b[49m\u001b[38;5;241;43m2\u001b[39;49m\u001b[43m,\u001b[49m\u001b[43m \u001b[49m\u001b[38;5;241;43m2\u001b[39;49m\u001b[43m)\u001b[49m\u001b[43m)\u001b[49m\u001b[43m,\u001b[49m\n\u001b[0;32m      4\u001b[0m \u001b[43m                              \u001b[49m\u001b[43mpd\u001b[49m\u001b[38;5;241;43m.\u001b[39;49m\u001b[43mDataFrame\u001b[49m\u001b[43m(\u001b[49m\u001b[43m)\u001b[49m\u001b[43m]\u001b[49m\u001b[43m)\u001b[49m\n",
      "File \u001b[1;32m~\\Documents\\MSDS\\Winter2024\\515_Software_Design\\BTS_Flight_Forecast\\flight_forecast\\utils\\delay_predictor.py:125\u001b[0m, in \u001b[0;36mtrain_classifier\u001b[1;34m(datasets)\u001b[0m\n\u001b[0;32m    120\u001b[0m     \u001b[38;5;28;01mraise\u001b[39;00m \u001b[38;5;167;01mTypeError\u001b[39;00m(\u001b[38;5;124m\"\u001b[39m\u001b[38;5;124mThe elements at indices 0 and 2 of the datasets parameter must be\u001b[39m\u001b[38;5;124m\"\u001b[39m \u001b[38;5;241m+\u001b[39m \\\n\u001b[0;32m    121\u001b[0m                     \u001b[38;5;124mf\u001b[39m\u001b[38;5;124m\"\u001b[39m\u001b[38;5;124mscipy csr matrices. They are currently \u001b[39m\u001b[38;5;132;01m{\u001b[39;00m\u001b[38;5;28mtype\u001b[39m(datasets[\u001b[38;5;241m0\u001b[39m])\u001b[38;5;132;01m}\u001b[39;00m\u001b[38;5;124m and \u001b[39m\u001b[38;5;124m\"\u001b[39m \u001b[38;5;241m+\u001b[39m \\\n\u001b[0;32m    122\u001b[0m                     \u001b[38;5;124mf\u001b[39m\u001b[38;5;124m\"\u001b[39m\u001b[38;5;132;01m{\u001b[39;00m\u001b[38;5;28mtype\u001b[39m(datasets[\u001b[38;5;241m2\u001b[39m])\u001b[38;5;132;01m}\u001b[39;00m\u001b[38;5;124m, respectively.\u001b[39m\u001b[38;5;124m\"\u001b[39m)\n\u001b[0;32m    123\u001b[0m \u001b[38;5;28;01mif\u001b[39;00m \u001b[38;5;129;01mnot\u001b[39;00m ((\u001b[38;5;28misinstance\u001b[39m(datasets[\u001b[38;5;241m1\u001b[39m], pd\u001b[38;5;241m.\u001b[39mDataFrame)) \u001b[38;5;129;01mor\u001b[39;00m \\\n\u001b[0;32m    124\u001b[0m         (\u001b[38;5;28misinstance\u001b[39m(datasets[\u001b[38;5;241m3\u001b[39m], pd\u001b[38;5;241m.\u001b[39mDataFrame))):\n\u001b[1;32m--> 125\u001b[0m     \u001b[38;5;28;01mraise\u001b[39;00m \u001b[38;5;167;01mTypeError\u001b[39;00m(\u001b[38;5;124m\"\u001b[39m\u001b[38;5;124mThe elements at indices 1 and 3 of the datasets parameter must be\u001b[39m\u001b[38;5;124m\"\u001b[39m \u001b[38;5;241m+\u001b[39m \\\n\u001b[0;32m    126\u001b[0m                     \u001b[38;5;124mf\u001b[39m\u001b[38;5;124m\"\u001b[39m\u001b[38;5;124mPandas DataFrames. They are currently \u001b[39m\u001b[38;5;132;01m{\u001b[39;00m\u001b[38;5;28mtype\u001b[39m(datasets[\u001b[38;5;241m1\u001b[39m])\u001b[38;5;132;01m}\u001b[39;00m\u001b[38;5;124m and \u001b[39m\u001b[38;5;124m\"\u001b[39m \u001b[38;5;241m+\u001b[39m \\\n\u001b[0;32m    127\u001b[0m                     \u001b[38;5;124mf\u001b[39m\u001b[38;5;124m\"\u001b[39m\u001b[38;5;132;01m{\u001b[39;00m\u001b[38;5;28mtype\u001b[39m(datasets[\u001b[38;5;241m3\u001b[39m])\u001b[38;5;132;01m}\u001b[39;00m\u001b[38;5;124m, respectively.\u001b[39m\u001b[38;5;124m\"\u001b[39m)\n\u001b[0;32m    128\u001b[0m \u001b[38;5;66;03m# Defining logistic regression parameters to sweep over\u001b[39;00m\n\u001b[0;32m    129\u001b[0m logreg_params \u001b[38;5;241m=\u001b[39m {\n\u001b[0;32m    130\u001b[0m     \u001b[38;5;124m'\u001b[39m\u001b[38;5;124mpenalty\u001b[39m\u001b[38;5;124m'\u001b[39m: [\u001b[38;5;124m'\u001b[39m\u001b[38;5;124ml1\u001b[39m\u001b[38;5;124m'\u001b[39m, \u001b[38;5;124m'\u001b[39m\u001b[38;5;124ml2\u001b[39m\u001b[38;5;124m'\u001b[39m],\n\u001b[0;32m    131\u001b[0m     \u001b[38;5;124m'\u001b[39m\u001b[38;5;124mC\u001b[39m\u001b[38;5;124m'\u001b[39m: [\u001b[38;5;241m0.1\u001b[39m, \u001b[38;5;241m1\u001b[39m, \u001b[38;5;241m10\u001b[39m]\n\u001b[0;32m    132\u001b[0m }\n",
      "File \u001b[1;32m~\\miniconda3\\Lib\\site-packages\\sklearn\\base.py:1151\u001b[0m, in \u001b[0;36m_fit_context.<locals>.decorator.<locals>.wrapper\u001b[1;34m(estimator, *args, **kwargs)\u001b[0m\n\u001b[0;32m   1144\u001b[0m     estimator\u001b[38;5;241m.\u001b[39m_validate_params()\n\u001b[0;32m   1146\u001b[0m \u001b[38;5;28;01mwith\u001b[39;00m config_context(\n\u001b[0;32m   1147\u001b[0m     skip_parameter_validation\u001b[38;5;241m=\u001b[39m(\n\u001b[0;32m   1148\u001b[0m         prefer_skip_nested_validation \u001b[38;5;129;01mor\u001b[39;00m global_skip_validation\n\u001b[0;32m   1149\u001b[0m     )\n\u001b[0;32m   1150\u001b[0m ):\n\u001b[1;32m-> 1151\u001b[0m     \u001b[38;5;28;01mreturn\u001b[39;00m \u001b[43mfit_method\u001b[49m\u001b[43m(\u001b[49m\u001b[43mestimator\u001b[49m\u001b[43m,\u001b[49m\u001b[43m \u001b[49m\u001b[38;5;241;43m*\u001b[39;49m\u001b[43margs\u001b[49m\u001b[43m,\u001b[49m\u001b[43m \u001b[49m\u001b[38;5;241;43m*\u001b[39;49m\u001b[38;5;241;43m*\u001b[39;49m\u001b[43mkwargs\u001b[49m\u001b[43m)\u001b[49m\n",
      "File \u001b[1;32m~\\miniconda3\\Lib\\site-packages\\sklearn\\model_selection\\_search.py:806\u001b[0m, in \u001b[0;36mBaseSearchCV.fit\u001b[1;34m(self, X, y, groups, **fit_params)\u001b[0m\n\u001b[0;32m    803\u001b[0m     \u001b[38;5;28mself\u001b[39m\u001b[38;5;241m.\u001b[39m_check_refit_for_multimetric(scorers)\n\u001b[0;32m    804\u001b[0m     refit_metric \u001b[38;5;241m=\u001b[39m \u001b[38;5;28mself\u001b[39m\u001b[38;5;241m.\u001b[39mrefit\n\u001b[1;32m--> 806\u001b[0m X, y, groups \u001b[38;5;241m=\u001b[39m \u001b[43mindexable\u001b[49m\u001b[43m(\u001b[49m\u001b[43mX\u001b[49m\u001b[43m,\u001b[49m\u001b[43m \u001b[49m\u001b[43my\u001b[49m\u001b[43m,\u001b[49m\u001b[43m \u001b[49m\u001b[43mgroups\u001b[49m\u001b[43m)\u001b[49m\n\u001b[0;32m    807\u001b[0m fit_params \u001b[38;5;241m=\u001b[39m _check_fit_params(X, fit_params)\n\u001b[0;32m    809\u001b[0m cv_orig \u001b[38;5;241m=\u001b[39m check_cv(\u001b[38;5;28mself\u001b[39m\u001b[38;5;241m.\u001b[39mcv, y, classifier\u001b[38;5;241m=\u001b[39mis_classifier(estimator))\n",
      "File \u001b[1;32m~\\miniconda3\\Lib\\site-packages\\sklearn\\utils\\validation.py:455\u001b[0m, in \u001b[0;36mindexable\u001b[1;34m(*iterables)\u001b[0m\n\u001b[0;32m    436\u001b[0m \u001b[38;5;250m\u001b[39m\u001b[38;5;124;03m\"\"\"Make arrays indexable for cross-validation.\u001b[39;00m\n\u001b[0;32m    437\u001b[0m \n\u001b[0;32m    438\u001b[0m \u001b[38;5;124;03mChecks consistent length, passes through None, and ensures that everything\u001b[39;00m\n\u001b[1;32m   (...)\u001b[0m\n\u001b[0;32m    451\u001b[0m \u001b[38;5;124;03m    sparse matrix, or dataframe) or `None`.\u001b[39;00m\n\u001b[0;32m    452\u001b[0m \u001b[38;5;124;03m\"\"\"\u001b[39;00m\n\u001b[0;32m    454\u001b[0m result \u001b[38;5;241m=\u001b[39m [_make_indexable(X) \u001b[38;5;28;01mfor\u001b[39;00m X \u001b[38;5;129;01min\u001b[39;00m iterables]\n\u001b[1;32m--> 455\u001b[0m \u001b[43mcheck_consistent_length\u001b[49m\u001b[43m(\u001b[49m\u001b[38;5;241;43m*\u001b[39;49m\u001b[43mresult\u001b[49m\u001b[43m)\u001b[49m\n\u001b[0;32m    456\u001b[0m \u001b[38;5;28;01mreturn\u001b[39;00m result\n",
      "File \u001b[1;32m~\\miniconda3\\Lib\\site-packages\\sklearn\\utils\\validation.py:409\u001b[0m, in \u001b[0;36mcheck_consistent_length\u001b[1;34m(*arrays)\u001b[0m\n\u001b[0;32m    407\u001b[0m uniques \u001b[38;5;241m=\u001b[39m np\u001b[38;5;241m.\u001b[39munique(lengths)\n\u001b[0;32m    408\u001b[0m \u001b[38;5;28;01mif\u001b[39;00m \u001b[38;5;28mlen\u001b[39m(uniques) \u001b[38;5;241m>\u001b[39m \u001b[38;5;241m1\u001b[39m:\n\u001b[1;32m--> 409\u001b[0m     \u001b[38;5;28;01mraise\u001b[39;00m \u001b[38;5;167;01mValueError\u001b[39;00m(\n\u001b[0;32m    410\u001b[0m         \u001b[38;5;124m\"\u001b[39m\u001b[38;5;124mFound input variables with inconsistent numbers of samples: \u001b[39m\u001b[38;5;132;01m%r\u001b[39;00m\u001b[38;5;124m\"\u001b[39m\n\u001b[0;32m    411\u001b[0m         \u001b[38;5;241m%\u001b[39m [\u001b[38;5;28mint\u001b[39m(l) \u001b[38;5;28;01mfor\u001b[39;00m l \u001b[38;5;129;01min\u001b[39;00m lengths]\n\u001b[0;32m    412\u001b[0m     )\n",
      "\u001b[1;31mValueError\u001b[0m: Found input variables with inconsistent numbers of samples: [25, 0]"
     ]
    }
   ],
   "source": [
    "delay_predictor.train_classifier([\"Not a valid sparse matrix\",\n",
    "                              pd.DataFrame(),\n",
    "                              scipy.sparse.csr_matrix((2, 2)),\n",
    "                              pd.DataFrame()])"
   ]
  },
  {
   "cell_type": "code",
   "execution_count": 6,
   "id": "be528a5b-ad05-4323-869d-8c54644eb25c",
   "metadata": {},
   "outputs": [],
   "source": [
    "datasets = [\"Not a valid sparse matrix\",\n",
    "                              pd.DataFrame(),\n",
    "                              scipy.sparse.csr_matrix((2, 2)),\n",
    "                              pd.DataFrame()]"
   ]
  },
  {
   "cell_type": "code",
   "execution_count": 13,
   "id": "7138d015-df38-45c5-bf24-014cfd0441d5",
   "metadata": {},
   "outputs": [
    {
     "data": {
      "text/plain": [
       "False"
      ]
     },
     "execution_count": 13,
     "metadata": {},
     "output_type": "execute_result"
    }
   ],
   "source": [
    "(isinstance(datasets[0], scipy.sparse.csr_matrix))"
   ]
  },
  {
   "cell_type": "code",
   "execution_count": 15,
   "id": "2588de39-643d-4861-aeb9-d14d21afac5a",
   "metadata": {},
   "outputs": [
    {
     "ename": "TypeError",
     "evalue": "The elements at indices 0 and 2 of the datasets parameter must bescipy csr matrices. They are currently <class 'str'> and <class 'scipy.sparse._csr.csr_matrix'>, respectively.",
     "output_type": "error",
     "traceback": [
      "\u001b[1;31m---------------------------------------------------------------------------\u001b[0m",
      "\u001b[1;31mTypeError\u001b[0m                                 Traceback (most recent call last)",
      "Cell \u001b[1;32mIn[15], line 5\u001b[0m\n\u001b[0;32m      2\u001b[0m     \u001b[38;5;28;01mraise\u001b[39;00m \u001b[38;5;167;01mValueError\u001b[39;00m(\u001b[38;5;124m\"\u001b[39m\u001b[38;5;124mThe input dataset must be a collection of 4 elements.\u001b[39m\u001b[38;5;124m\"\u001b[39m)\n\u001b[0;32m      3\u001b[0m \u001b[38;5;28;01mif\u001b[39;00m (\u001b[38;5;129;01mnot\u001b[39;00m \u001b[38;5;28misinstance\u001b[39m(datasets[\u001b[38;5;241m0\u001b[39m], scipy\u001b[38;5;241m.\u001b[39msparse\u001b[38;5;241m.\u001b[39mcsr_matrix)) \u001b[38;5;129;01mor\u001b[39;00m \\\n\u001b[0;32m      4\u001b[0m    (\u001b[38;5;129;01mnot\u001b[39;00m \u001b[38;5;28misinstance\u001b[39m(datasets[\u001b[38;5;241m2\u001b[39m], scipy\u001b[38;5;241m.\u001b[39msparse\u001b[38;5;241m.\u001b[39mcsr_matrix)):\n\u001b[1;32m----> 5\u001b[0m     \u001b[38;5;28;01mraise\u001b[39;00m \u001b[38;5;167;01mTypeError\u001b[39;00m(\u001b[38;5;124m\"\u001b[39m\u001b[38;5;124mThe elements at indices 0 and 2 of the datasets parameter must be\u001b[39m\u001b[38;5;124m\"\u001b[39m \u001b[38;5;241m+\u001b[39m \\\n\u001b[0;32m      6\u001b[0m                     \u001b[38;5;124mf\u001b[39m\u001b[38;5;124m\"\u001b[39m\u001b[38;5;124mscipy csr matrices. They are currently \u001b[39m\u001b[38;5;132;01m{\u001b[39;00m\u001b[38;5;28mtype\u001b[39m(datasets[\u001b[38;5;241m0\u001b[39m])\u001b[38;5;132;01m}\u001b[39;00m\u001b[38;5;124m and \u001b[39m\u001b[38;5;124m\"\u001b[39m \u001b[38;5;241m+\u001b[39m \\\n\u001b[0;32m      7\u001b[0m                     \u001b[38;5;124mf\u001b[39m\u001b[38;5;124m\"\u001b[39m\u001b[38;5;132;01m{\u001b[39;00m\u001b[38;5;28mtype\u001b[39m(datasets[\u001b[38;5;241m2\u001b[39m])\u001b[38;5;132;01m}\u001b[39;00m\u001b[38;5;124m, respectively.\u001b[39m\u001b[38;5;124m\"\u001b[39m)\n\u001b[0;32m      8\u001b[0m \u001b[38;5;28;01mif\u001b[39;00m (\u001b[38;5;129;01mnot\u001b[39;00m \u001b[38;5;28misinstance\u001b[39m(datasets[\u001b[38;5;241m1\u001b[39m], pd\u001b[38;5;241m.\u001b[39mDataFrame)) \u001b[38;5;129;01mor\u001b[39;00m \\\n\u001b[0;32m      9\u001b[0m    (\u001b[38;5;129;01mnot\u001b[39;00m \u001b[38;5;28misinstance\u001b[39m(datasets[\u001b[38;5;241m3\u001b[39m], pd\u001b[38;5;241m.\u001b[39mDataFrame)):\n\u001b[0;32m     10\u001b[0m     \u001b[38;5;28;01mraise\u001b[39;00m \u001b[38;5;167;01mTypeError\u001b[39;00m(\u001b[38;5;124m\"\u001b[39m\u001b[38;5;124mThe elements at indices 1 and 3 of the datasets parameter must be\u001b[39m\u001b[38;5;124m\"\u001b[39m \u001b[38;5;241m+\u001b[39m \\\n\u001b[0;32m     11\u001b[0m                     \u001b[38;5;124mf\u001b[39m\u001b[38;5;124m\"\u001b[39m\u001b[38;5;124mPandas DataFrames. They are currently \u001b[39m\u001b[38;5;132;01m{\u001b[39;00m\u001b[38;5;28mtype\u001b[39m(datasets[\u001b[38;5;241m1\u001b[39m])\u001b[38;5;132;01m}\u001b[39;00m\u001b[38;5;124m and \u001b[39m\u001b[38;5;124m\"\u001b[39m \u001b[38;5;241m+\u001b[39m \\\n\u001b[0;32m     12\u001b[0m                     \u001b[38;5;124mf\u001b[39m\u001b[38;5;124m\"\u001b[39m\u001b[38;5;132;01m{\u001b[39;00m\u001b[38;5;28mtype\u001b[39m(datasets[\u001b[38;5;241m3\u001b[39m])\u001b[38;5;132;01m}\u001b[39;00m\u001b[38;5;124m, respectively.\u001b[39m\u001b[38;5;124m\"\u001b[39m)\n",
      "\u001b[1;31mTypeError\u001b[0m: The elements at indices 0 and 2 of the datasets parameter must bescipy csr matrices. They are currently <class 'str'> and <class 'scipy.sparse._csr.csr_matrix'>, respectively."
     ]
    }
   ],
   "source": [
    "if len(datasets) != 4:\n",
    "    raise ValueError(\"The input dataset must be a collection of 4 elements.\")\n",
    "if (not isinstance(datasets[0], scipy.sparse.csr_matrix)) or \\\n",
    "   (not isinstance(datasets[2], scipy.sparse.csr_matrix)):\n",
    "    raise TypeError(\"The elements at indices 0 and 2 of the datasets parameter must be\" + \\\n",
    "                    f\"scipy csr matrices. They are currently {type(datasets[0])} and \" + \\\n",
    "                    f\"{type(datasets[2])}, respectively.\")\n",
    "if (not isinstance(datasets[1], pd.DataFrame)) or \\\n",
    "   (not isinstance(datasets[3], pd.DataFrame)):\n",
    "    raise TypeError(\"The elements at indices 1 and 3 of the datasets parameter must be\" + \\\n",
    "                    f\"Pandas DataFrames. They are currently {type(datasets[1])} and \" + \\\n",
    "                    f\"{type(datasets[3])}, respectively.\")"
   ]
  },
  {
   "cell_type": "code",
   "execution_count": 9,
   "id": "e43593dc-f9b2-4cb1-ad3b-7bb4fddbbc97",
   "metadata": {},
   "outputs": [
    {
     "ename": "TypeError",
     "evalue": "The elements at indices 1 and 3 of the datasets parameter must bePandas DataFrames. They are currently <class 'pandas.core.frame.DataFrame'> and <class 'pandas.core.frame.DataFrame'>, respectively.",
     "output_type": "error",
     "traceback": [
      "\u001b[1;31m---------------------------------------------------------------------------\u001b[0m",
      "\u001b[1;31mTypeError\u001b[0m                                 Traceback (most recent call last)",
      "Cell \u001b[1;32mIn[9], line 1\u001b[0m\n\u001b[1;32m----> 1\u001b[0m \u001b[38;5;28;01mraise\u001b[39;00m \u001b[38;5;167;01mTypeError\u001b[39;00m(\u001b[38;5;124m\"\u001b[39m\u001b[38;5;124mThe elements at indices 1 and 3 of the datasets parameter must be\u001b[39m\u001b[38;5;124m\"\u001b[39m \u001b[38;5;241m+\u001b[39m \\\n\u001b[0;32m      2\u001b[0m          \u001b[38;5;124mf\u001b[39m\u001b[38;5;124m\"\u001b[39m\u001b[38;5;124mPandas DataFrames. They are currently \u001b[39m\u001b[38;5;132;01m{\u001b[39;00m\u001b[38;5;28mtype\u001b[39m(datasets[\u001b[38;5;241m1\u001b[39m])\u001b[38;5;132;01m}\u001b[39;00m\u001b[38;5;124m and \u001b[39m\u001b[38;5;124m\"\u001b[39m \u001b[38;5;241m+\u001b[39m \\\n\u001b[0;32m      3\u001b[0m          \u001b[38;5;124mf\u001b[39m\u001b[38;5;124m\"\u001b[39m\u001b[38;5;132;01m{\u001b[39;00m\u001b[38;5;28mtype\u001b[39m(datasets[\u001b[38;5;241m3\u001b[39m])\u001b[38;5;132;01m}\u001b[39;00m\u001b[38;5;124m, respectively.\u001b[39m\u001b[38;5;124m\"\u001b[39m)\n",
      "\u001b[1;31mTypeError\u001b[0m: The elements at indices 1 and 3 of the datasets parameter must bePandas DataFrames. They are currently <class 'pandas.core.frame.DataFrame'> and <class 'pandas.core.frame.DataFrame'>, respectively."
     ]
    }
   ],
   "source": [
    "raise TypeError(\"The elements at indices 1 and 3 of the datasets parameter must be\" + \\\n",
    "         f\"Pandas DataFrames. They are currently {type(datasets[1])} and \" + \\\n",
    "         f\"{type(datasets[3])}, respectively.\")"
   ]
  },
  {
   "cell_type": "code",
   "execution_count": 14,
   "id": "e158c9f3-71ee-401d-a7b4-dfe2629c0153",
   "metadata": {},
   "outputs": [
    {
     "name": "stderr",
     "output_type": "stream",
     "text": [
      "C:\\Users\\bruno\\miniconda3\\Lib\\site-packages\\sklearn\\preprocessing\\_encoders.py:227: UserWarning: Found unknown categories in columns [1, 2] during transform. These unknown categories will be encoded as all zeros\n",
      "  warnings.warn(\n",
      "C:\\Users\\bruno\\miniconda3\\Lib\\site-packages\\sklearn\\model_selection\\_split.py:725: UserWarning: The least populated class in y has only 3 members, which is less than n_splits=5.\n",
      "  warnings.warn(\n"
     ]
    },
    {
     "data": {
      "text/plain": [
       "0.625"
      ]
     },
     "execution_count": 14,
     "metadata": {},
     "output_type": "execute_result"
    },
    {
     "data": {
      "image/png": "[encoded data removed]",
      "text/plain": [
       "<Figure size 640x480 with 2 Axes>"
      ]
     },
     "metadata": {},
     "output_type": "display_data"
    }
   ],
   "source": [
    "test_df = pd.DataFrame(columns=['Year','Month','DayofMonth', 'SecondHalf'])\n",
    "test_df.loc[0,:] = [2022, 1, 5, 'no']\n",
    "test_df.loc[1,:] = [2022, 2, 8, 'no']\n",
    "test_df.loc[2,:] = [2022, 3, 19, 'yes']\n",
    "test_df.loc[3,:] = [2022, 4, 14, 'no']\n",
    "test_df.loc[4,:] = [2022, 5, 1, 'no']\n",
    "test_df.loc[5,:] = [2022, 6, 16, 'yes']\n",
    "test_df.loc[6,:] = [2022, 7, 18, 'yes']\n",
    "test_df.loc[7,:] = [2022, 8, 26, 'yes']\n",
    "test_df.loc[8,:] = [2022, 9, 4, 'no']\n",
    "test_df.loc[9,:] = [2022, 10, 9, 'no']\n",
    "test_df.loc[10,:] = [2022, 11, 22, 'yes']\n",
    "output = delay_predictor.pre_process_dataset(df_to_process = test_df,\n",
    "                             target_col='SecondHalf',\n",
    "                             relevant_columns=['Year','Month','DayofMonth'],\n",
    "                             encoder_path = \"../resources/testing_resources/encoder.pkl\")\n",
    "result = delay_predictor.train_classifier(output)\n",
    "test_query = pd.DataFrame(columns=['Year','Month','DayofMonth'])\n",
    "test_query.loc[0,:] = [2022, 4, 2]\n",
    "result[1]"
   ]
  },
  {
   "cell_type": "code",
   "execution_count": 12,
   "id": "3ab9d888-dc77-44a1-83ff-984fafb3f77a",
   "metadata": {},
   "outputs": [],
   "source": [
    "years = [2022]*50\n",
    "months = np.array([random.randrange(1,13) for i in range(50)])\n",
    "days = np.array([random.randrange(1,31) for i in range(50)])\n",
    "second_half = days >= 15"
   ]
  },
  {
   "cell_type": "code",
   "execution_count": 14,
   "id": "5b5559b3-3528-485e-950c-8e5364595024",
   "metadata": {},
   "outputs": [],
   "source": [
    "test_df = pd.DataFrame(columns=['year','month','day','second_half'])\n",
    "test_df.loc[:,'year'] = years\n",
    "test_df.loc[:,'month'] = months\n",
    "test_df.loc[:,'day'] = days\n",
    "test_df.loc[:,'second_half'] = second_half\n",
    "test_df.to_csv(\"../resources/testing_resources/test_date_df.csv\")"
   ]
  },
  {
   "cell_type": "code",
   "execution_count": 15,
   "id": "b9ea74d5-b201-48f7-a64a-38036759800b",
   "metadata": {},
   "outputs": [],
   "source": [
    "test_df = pd.read_csv(\"../resources/testing_resources/test_date_df.csv\")\n",
    "result = delay_predictor.pre_process_dataset(df_to_process = test_df,\n",
    "                                     target_col='second_half',\n",
    "                                     relevant_columns=['year','month','day'],\n",
    "                                     encoder_path = \"../resources/testing_resources/encoder.pkl\")\n"
   ]
  },
  {
   "cell_type": "code",
   "execution_count": 27,
   "id": "396936ad-0c16-4133-8028-a110d55600ba",
   "metadata": {},
   "outputs": [
    {
     "data": {
      "image/png": "[encoded data removed]",
      "text/plain": [
       "<Figure size 640x480 with 2 Axes>"
      ]
     },
     "metadata": {},
     "output_type": "display_data"
    }
   ],
   "source": [
    "output = []\n",
    "output.append(scipy.sparse.csr_matrix(result[0]))\n",
    "output.append(result[1])\n",
    "output.append(scipy.sparse.csr_matrix(result[2]))\n",
    "output.append(result[3])\n",
    "result = delay_predictor.train_classifier(output)"
   ]
  },
  {
   "cell_type": "code",
   "execution_count": 18,
   "id": "80fd56c0-0908-4371-bdf5-2df05ad07317",
   "metadata": {},
   "outputs": [
    {
     "data": {
      "text/plain": [
       "6"
      ]
     },
     "execution_count": 18,
     "metadata": {},
     "output_type": "execute_result"
    }
   ],
   "source": [
    "result[0].shape[1] + result[2].shape[1]"
   ]
  },
  {
   "cell_type": "code",
   "execution_count": 28,
   "id": "2fd3bb93-bc26-43c4-bfef-222fff513313",
   "metadata": {},
   "outputs": [
    {
     "data": {
      "text/plain": [
       "0.972972972972973"
      ]
     },
     "execution_count": 28,
     "metadata": {},
     "output_type": "execute_result"
    }
   ],
   "source": [
    "result[1]"
   ]
  },
  {
   "cell_type": "code",
   "execution_count": null,
   "id": "6a3bc62d-ac89-433d-bebc-514fd342cf9c",
   "metadata": {},
   "outputs": [],
   "source": [
    "def predict_delay_probability(predictors,\n",
    "                              classifier_path = PICKLE_FOLDER_PATH + '/classifier.pkl',\n",
    "                              encoder_path = PICKLE_FOLDER_PATH + '/classification_encoder.pkl'):\n",
    "    '''\n",
    "    Predicts the probability of a given flight being delayed.\n",
    "\n",
    "    This function uses the model containined in \"classifier.pkl\" to predict delay probability.\n",
    "\n",
    "    Parameters\n",
    "    ----------\n",
    "    pred_vector: A vector of flight properties. Must contain the columns used to train the model.\n",
    "\n",
    "    Returns\n",
    "    -------\n",
    "    A float containing the log-probability of a flight delay.\n",
    "    '''\n",
    "    with open(classifier_path, 'rb') as file:\n",
    "        delay_predictor = pickle.load(file)\n",
    "    with open(encoder_path, 'rb') as file:\n",
    "        encoder = pickle.load(file)\n",
    "    encoded_pred = encoder.transform(predictors)\n",
    "    return delay_predictor.predict_proba(encoded_pred)"
   ]
  },
  {
   "cell_type": "code",
   "execution_count": 36,
   "id": "78ea616e-53a8-4d91-8b38-565b69b770ff",
   "metadata": {},
   "outputs": [],
   "source": [
    "predictors = pd.DataFrame()\n",
    "PICKLE_FOLDER_PATH = \"../resources/generated/pickles\"\n",
    "classifier_path = PICKLE_FOLDER_PATH + '/classifier.pkl'\n",
    "encoder_path = PICKLE_FOLDER_PATH + '/classification_encoder.pkl'\n",
    "with open(classifier_path, 'rb') as file:\n",
    "    delay_predictor = pickle.load(file)\n",
    "with open(encoder_path, 'rb') as file:\n",
    "    encoder = pickle.load(file)\n",
    "#encoded_pred = encoder.transform(predictors)"
   ]
  },
  {
   "cell_type": "code",
   "execution_count": 44,
   "id": "87652ab5-7115-4fab-9109-a3aafb17a4a0",
   "metadata": {},
   "outputs": [
    {
     "data": {
      "text/plain": [
       "13"
      ]
     },
     "execution_count": 44,
     "metadata": {},
     "output_type": "execute_result"
    }
   ],
   "source": [
    "encoder.feature_names_in_.shape[0]"
   ]
  },
  {
   "cell_type": "code",
   "execution_count": 41,
   "id": "b062f500-6ea8-4a97-ae53-64dbd4b7a7f2",
   "metadata": {},
   "outputs": [
    {
     "data": {
      "text/plain": [
       "893"
      ]
     },
     "execution_count": 41,
     "metadata": {},
     "output_type": "execute_result"
    }
   ],
   "source": [
    "encoder.get_feature_names_out().shape[0]"
   ]
  },
  {
   "cell_type": "code",
   "execution_count": 38,
   "id": "469fcfb9-dbd2-4231-a140-6a48ea7442ff",
   "metadata": {},
   "outputs": [
    {
     "data": {
      "text/plain": [
       "{'cv': None,\n",
       " 'error_score': nan,\n",
       " 'estimator__C': 1.0,\n",
       " 'estimator__class_weight': None,\n",
       " 'estimator__dual': False,\n",
       " 'estimator__fit_intercept': True,\n",
       " 'estimator__intercept_scaling': 1,\n",
       " 'estimator__l1_ratio': None,\n",
       " 'estimator__max_iter': 100,\n",
       " 'estimator__multi_class': 'auto',\n",
       " 'estimator__n_jobs': None,\n",
       " 'estimator__penalty': 'l2',\n",
       " 'estimator__random_state': None,\n",
       " 'estimator__solver': 'liblinear',\n",
       " 'estimator__tol': 0.0001,\n",
       " 'estimator__verbose': 0,\n",
       " 'estimator__warm_start': False,\n",
       " 'estimator': LogisticRegression(solver='liblinear'),\n",
       " 'n_jobs': -2,\n",
       " 'param_grid': {'penalty': ['l1', 'l2'], 'C': [0.1, 1, 10]},\n",
       " 'pre_dispatch': '2*n_jobs',\n",
       " 'refit': True,\n",
       " 'return_train_score': False,\n",
       " 'scoring': None,\n",
       " 'verbose': 0}"
      ]
     },
     "execution_count": 38,
     "metadata": {},
     "output_type": "execute_result"
    }
   ],
   "source": [
    "delay_predictor.get_params()"
   ]
  },
  {
   "cell_type": "code",
   "execution_count": 46,
   "id": "d0777464-1284-4dfb-985b-3f71855c15fd",
   "metadata": {},
   "outputs": [
    {
     "data": {
      "text/plain": [
       "5"
      ]
     },
     "execution_count": 46,
     "metadata": {},
     "output_type": "execute_result"
    }
   ],
   "source": [
    "test_df.columns.shape[0]"
   ]
  },
  {
   "cell_type": "code",
   "execution_count": 49,
   "id": "a37fd18e-26c2-4ba2-9c0c-d5f152c26073",
   "metadata": {},
   "outputs": [
    {
     "name": "stdout",
     "output_type": "stream",
     "text": [
      "Airport data successfully combined!           \n"
     ]
    }
   ],
   "source": [
    "airport_df = data_processing.combine_zipped_data(\"../resources/flight_data\")"
   ]
  },
  {
   "cell_type": "code",
   "execution_count": null,
   "id": "1926d909-f927-4c19-974f-96e7c3a38d81",
   "metadata": {},
   "outputs": [],
   "source": [
    "weather_df = data_processing.combine_weather_data(\"../resources/generated/weather_data\")"
   ]
  },
  {
   "cell_type": "code",
   "execution_count": 3,
   "id": "eae341a8-afab-4b90-9b63-91d2a25997c0",
   "metadata": {},
   "outputs": [
    {
     "name": "stdout",
     "output_type": "stream",
     "text": [
      "Airport data successfully combined!           \n",
      "Weather data successfully combined!           \n",
      "2022-01-01 08:53:00 to 2022-01-01 18:53:00 While the weather dataset covers 2022-05-03 10:18:00 to 2022-05-04 10:02:00.\n"
     ]
    },
    {
     "ename": "ValueError",
     "evalue": "The flight dataset and weather dataset must have overlapping time periods for each airport of interest.For the current airport, the flight dataset covers2022-01-01 08:53:00 to 2022-01-01 18:53:00 While the weather dataset covers 2022-05-03 10:18:00 to 2022-05-04 10:02:00.",
     "output_type": "error",
     "traceback": [
      "\u001b[1;31m---------------------------------------------------------------------------\u001b[0m",
      "\u001b[1;31mValueError\u001b[0m                                Traceback (most recent call last)",
      "Cell \u001b[1;32mIn[3], line 4\u001b[0m\n\u001b[0;32m      2\u001b[0m test_airport_df \u001b[38;5;241m=\u001b[39m data_processing\u001b[38;5;241m.\u001b[39mcombine_zipped_data(TEST_RESOURCES_PATH \u001b[38;5;241m+\u001b[39m \u001b[38;5;124m\"\u001b[39m\u001b[38;5;124m/test_airport_data\u001b[39m\u001b[38;5;124m\"\u001b[39m)\n\u001b[0;32m      3\u001b[0m test_weather_df \u001b[38;5;241m=\u001b[39m data_processing\u001b[38;5;241m.\u001b[39mcombine_weather_data(TEST_RESOURCES_PATH \u001b[38;5;241m+\u001b[39m \u001b[38;5;124m\"\u001b[39m\u001b[38;5;124m/test_weather_data\u001b[39m\u001b[38;5;124m\"\u001b[39m)\n\u001b[1;32m----> 4\u001b[0m \u001b[43mdata_processing\u001b[49m\u001b[38;5;241;43m.\u001b[39;49m\u001b[43mmatch_flight_and_weather_data\u001b[49m\u001b[43m(\u001b[49m\u001b[43mtest_airport_df\u001b[49m\u001b[43m,\u001b[49m\u001b[43m \u001b[49m\u001b[43mtest_weather_df\u001b[49m\u001b[43m)\u001b[49m\n",
      "File \u001b[1;32m~\\Documents\\MSDS\\Winter2024\\515_Software_Design\\BTS_Flight_Forecast\\flight_forecast\\utils\\data_processing.py:181\u001b[0m, in \u001b[0;36mmatch_flight_and_weather_data\u001b[1;34m(flight_df, weather_df)\u001b[0m\n\u001b[0;32m    178\u001b[0m sys\u001b[38;5;241m.\u001b[39mstdout\u001b[38;5;241m.\u001b[39mflush()\n\u001b[0;32m    179\u001b[0m \u001b[38;5;28;01mif\u001b[39;00m airport_weather_df\u001b[38;5;241m.\u001b[39mrecord_start_date\u001b[38;5;241m.\u001b[39mmin() \u001b[38;5;241m>\u001b[39m airport_flight_df\u001b[38;5;241m.\u001b[39mFlightDate\u001b[38;5;241m.\u001b[39mmax() \u001b[38;5;129;01mor\u001b[39;00m \\\n\u001b[0;32m    180\u001b[0m    airport_weather_df\u001b[38;5;241m.\u001b[39mrecord_start_date\u001b[38;5;241m.\u001b[39mmax() \u001b[38;5;241m<\u001b[39m airport_flight_df\u001b[38;5;241m.\u001b[39mFlightDate\u001b[38;5;241m.\u001b[39mmin():\n\u001b[1;32m--> 181\u001b[0m     \u001b[38;5;28;01mraise\u001b[39;00m \u001b[38;5;167;01mValueError\u001b[39;00m(\u001b[38;5;124m\"\u001b[39m\u001b[38;5;124mThe flight dataset and weather dataset must have\u001b[39m\u001b[38;5;124m\"\u001b[39m \u001b[38;5;241m+\u001b[39m \\\n\u001b[0;32m    182\u001b[0m                      \u001b[38;5;124m\"\u001b[39m\u001b[38;5;124m overlapping time periods for each airport of interest.\u001b[39m\u001b[38;5;124m\"\u001b[39m \u001b[38;5;241m+\u001b[39m \\\n\u001b[0;32m    183\u001b[0m                      \u001b[38;5;124m\"\u001b[39m\u001b[38;5;124mFor the current airport, the flight dataset covers\u001b[39m\u001b[38;5;124m\"\u001b[39m \u001b[38;5;241m+\u001b[39m \\\n\u001b[0;32m    184\u001b[0m                      \u001b[38;5;124mf\u001b[39m\u001b[38;5;124m\"\u001b[39m\u001b[38;5;132;01m{\u001b[39;00mairport_weather_df\u001b[38;5;241m.\u001b[39mrecord_start_date\u001b[38;5;241m.\u001b[39mmin()\u001b[38;5;132;01m}\u001b[39;00m\u001b[38;5;124m to \u001b[39m\u001b[38;5;124m\"\u001b[39m \u001b[38;5;241m+\u001b[39m \\\n\u001b[0;32m    185\u001b[0m                      \u001b[38;5;124mf\u001b[39m\u001b[38;5;124m\"\u001b[39m\u001b[38;5;132;01m{\u001b[39;00mairport_weather_df\u001b[38;5;241m.\u001b[39mrecord_start_date\u001b[38;5;241m.\u001b[39mmax()\u001b[38;5;132;01m}\u001b[39;00m\u001b[38;5;124m \u001b[39m\u001b[38;5;124m\"\u001b[39m \u001b[38;5;241m+\u001b[39m \\\n\u001b[0;32m    186\u001b[0m                      \u001b[38;5;124m\"\u001b[39m\u001b[38;5;124mWhile the weather dataset covers \u001b[39m\u001b[38;5;124m\"\u001b[39m \u001b[38;5;241m+\u001b[39m \\\n\u001b[0;32m    187\u001b[0m                      \u001b[38;5;124mf\u001b[39m\u001b[38;5;124m\"\u001b[39m\u001b[38;5;132;01m{\u001b[39;00mairport_flight_df\u001b[38;5;241m.\u001b[39mFlightDate\u001b[38;5;241m.\u001b[39mmin()\u001b[38;5;132;01m}\u001b[39;00m\u001b[38;5;124m to \u001b[39m\u001b[38;5;124m\"\u001b[39m \u001b[38;5;241m+\u001b[39m \\\n\u001b[0;32m    188\u001b[0m                      \u001b[38;5;124mf\u001b[39m\u001b[38;5;124m\"\u001b[39m\u001b[38;5;132;01m{\u001b[39;00mairport_flight_df\u001b[38;5;241m.\u001b[39mFlightDate\u001b[38;5;241m.\u001b[39mmax()\u001b[38;5;132;01m}\u001b[39;00m\u001b[38;5;124m.\u001b[39m\u001b[38;5;124m\"\u001b[39m)\n\u001b[0;32m    189\u001b[0m \u001b[38;5;66;03m# Matching flight and weather data by ascending along both date columns\u001b[39;00m\n\u001b[0;32m    190\u001b[0m current_flight \u001b[38;5;241m=\u001b[39m \u001b[38;5;241m0\u001b[39m\n",
      "\u001b[1;31mValueError\u001b[0m: The flight dataset and weather dataset must have overlapping time periods for each airport of interest.For the current airport, the flight dataset covers2022-01-01 08:53:00 to 2022-01-01 18:53:00 While the weather dataset covers 2022-05-03 10:18:00 to 2022-05-04 10:02:00."
     ]
    }
   ],
   "source": [
    "TEST_RESOURCES_PATH = \"../resources/testing_resources\"\n",
    "test_airport_df = data_processing.combine_zipped_data(TEST_RESOURCES_PATH + \"/test_airport_data\")\n",
    "test_weather_df = data_processing.combine_weather_data(TEST_RESOURCES_PATH + \"/test_weather_data\")\n",
    "data_processing.match_flight_and_weather_data(test_airport_df, test_weather_df)"
   ]
  },
  {
   "cell_type": "code",
   "execution_count": 59,
   "id": "b8c01bee-de2a-4dcc-bb29-b39027aa1711",
   "metadata": {},
   "outputs": [
    {
     "data": {
      "text/plain": [
       "array(['DCA', 'CLT', 'TYS', 'PHL', 'PIT', 'PNS', 'CVG', 'ATL', 'FNT',\n",
       "       'CMH', 'PWM', 'MHT', 'PVD', 'BNA', 'GSO', 'ECP', 'SDF', 'BUF',\n",
       "       'IND', 'RIC', 'AGS', 'CHS', 'MLB', 'AVL', 'GSP', 'CAK', 'MCI',\n",
       "       'SAV', 'ABE', 'MKE', 'BDL', 'JAX', 'DSM', 'ORF', 'CHA', 'TUL',\n",
       "       'SRQ', 'MSY', 'TLH', 'GPT', 'CLE', 'SYR', 'DAY', 'VPS', 'FAY',\n",
       "       'BHM', 'EWN', 'SHV', 'LEX', 'HSV', 'IAD', 'ROC', 'CAE', 'BTR',\n",
       "       'BTV', 'MEM', 'STL', 'GRR', 'GNV', 'DAB', 'LAN', 'MYR', 'ILM',\n",
       "       'CRW', 'ITH', 'SGF', 'LIT', 'HPN', 'LAX', 'TUS', 'SEA', 'DEN',\n",
       "       'SMF', 'OKC', 'SJC', 'IAH', 'SFO', 'ABQ', 'ELP', 'XNA', 'SAT',\n",
       "       'DFW', 'FWA', 'FAT', 'ACV', 'PHX', 'ORD', 'PDX', 'YUM', 'SBN',\n",
       "       'ROW', 'LAW', 'RDM', 'LFT', 'COS', 'LRD', 'BWI', 'SAF', 'SJT',\n",
       "       'JAN', 'LCH', 'MGM', 'BIS', 'GJT', 'OMA', 'MOB', 'SGU', 'FLG',\n",
       "       'COU', 'CSG', 'HRL', 'DTW', 'MLU', 'BRO', 'TVC', 'DRO', 'ASE',\n",
       "       'MHK', 'CLL', 'CRP', 'GRK', 'MFE', 'ICT', 'IDA', 'SLC', 'PSP',\n",
       "       'AMA', 'STS', 'AEX', 'FSM', 'TRI', 'SBP', 'LGB', 'GRB', 'BUR',\n",
       "       'GEG', 'FSD', 'FAR', 'HOU', 'SBA', 'MFR', 'LBB', 'MSP', 'RNO',\n",
       "       'LAS', 'AUS', 'GFK', 'DLH', 'MOT', 'CNY', 'EKO', 'BRD', 'ABR',\n",
       "       'MQT', 'BOI', 'ALB', 'ESC', 'INL', 'TWF', 'HIB', 'XWA', 'RHI',\n",
       "       'BJI', 'PLN', 'CDC', 'CPR', 'APN', 'ATW', 'EWR', 'RST', 'SCE',\n",
       "       'BTM', 'MSN', 'EUG', 'MSO', 'ONT', 'BIL', 'LWS', 'BZN', 'PSC',\n",
       "       'LSE', 'RAP', 'HLN', 'OAK', 'SUN', 'SAN', 'FCA', 'MDW', 'PIH',\n",
       "       'MDT', 'ELM', 'IMT', 'GTF', 'CIU', 'WYS', 'MBS', 'SPI', 'MRY',\n",
       "       'RDD', 'HOB', 'MAF', 'CID', 'AVP', 'MLI', 'HDN', 'COD', 'CGI',\n",
       "       'PAH', 'RKS', 'JST', 'JLN', 'PRC', 'SUX', 'EAU', 'BFF', 'CMX',\n",
       "       'GCC', 'SHD', 'LBL', 'LAR', 'EAR', 'ALS', 'DVL', 'DEC', 'LBF',\n",
       "       'RIW', 'JMS', 'TBN', 'MEI', 'LGA', 'MTJ', 'SNA', 'OTH', 'BFL',\n",
       "       'LWB', 'GUC', 'EGE', 'FOD', 'MCW', 'PIB', 'CYS', 'HYS', 'SLN',\n",
       "       'VCT', 'MKG', 'SHR', 'CKB', 'OGS', 'PBG', 'PUB', 'DDC', 'VEL',\n",
       "       'BOS', 'LNK', 'DAL', 'DIK', 'YKM', 'ANC', 'PAE', 'FAI', 'BLI',\n",
       "       'PUW', 'ALW', 'EAT', 'DLG', 'SCC', 'RDU', 'MIA', 'FLL', 'TPA',\n",
       "       'PBI', 'RSW', 'MCO', 'SJU', 'STT', 'HNL', 'LIH', 'KOA', 'OGG',\n",
       "       'ITO', 'BQN', 'JFK', 'GUM', 'SPN', 'TXK', 'PQI', 'HHH', 'ACK',\n",
       "       'ERI', 'CHO', 'ROA', 'PIA', 'BGR', 'BQK', 'OAJ', 'AZO', 'ABY',\n",
       "       'DHN', 'GTR', 'VLD', 'CWA', 'EVV', 'BMI', 'BGM', 'EYW', 'ORH',\n",
       "       'STX', 'PGV', 'HTS', 'LYH', 'TOL', 'FLO', 'PHF', 'ART', 'SBY',\n",
       "       'ISP', 'ADQ', 'BET', 'BRW', 'KTN', 'JNU', 'YAK', 'CDV', 'SIT',\n",
       "       'WRG', 'PSG', 'OME', 'OTZ', 'AKN', 'ADK', 'GST', 'PSE', 'HYA',\n",
       "       'MVY', 'TTN', 'SWF', 'ILG', 'BKG', 'SFB', 'PIE', 'PGD', 'PVU',\n",
       "       'USA', 'AZA', 'LCK', 'BLV', 'SCK', 'RFD', 'HGR', 'IAG', 'GRI',\n",
       "       'OWB', 'PSM', 'SMX', 'STC', 'PPG', 'GCK', 'ACT', 'ALO', 'GGG',\n",
       "       'SPS', 'DRT', 'ABI', 'TYR', 'DBQ', 'SWO', 'CMI', 'BPT', 'ACY',\n",
       "       'LBE', 'JAC', 'BIH'], dtype=object)"
      ]
     },
     "execution_count": 59,
     "metadata": {},
     "output_type": "execute_result"
    }
   ],
   "source": [
    "airport_df.Origin.unique()"
   ]
  },
  {
   "cell_type": "code",
   "execution_count": 6,
   "id": "b297cc3e-ace9-4852-badd-80bedaaf1005",
   "metadata": {},
   "outputs": [
    {
     "name": "stdout",
     "output_type": "stream",
     "text": [
      "All files unpacked. Combining data...         \r"
     ]
    },
    {
     "ename": "ValueError",
     "evalue": "File path must contain a valid file. No files csvs found.",
     "output_type": "error",
     "traceback": [
      "\u001b[1;31m---------------------------------------------------------------------------\u001b[0m",
      "\u001b[1;31mValueError\u001b[0m                                Traceback (most recent call last)",
      "Cell \u001b[1;32mIn[6], line 2\u001b[0m\n\u001b[0;32m      1\u001b[0m \u001b[38;5;66;03m#test_airport_df = data_processing.combine_zipped_data(TEST_RESOURCES_PATH + \"/empty_test_folder\")\u001b[39;00m\n\u001b[1;32m----> 2\u001b[0m test_weather_df \u001b[38;5;241m=\u001b[39m \u001b[43mdata_processing\u001b[49m\u001b[38;5;241;43m.\u001b[39;49m\u001b[43mcombine_weather_data\u001b[49m\u001b[43m(\u001b[49m\u001b[43mTEST_RESOURCES_PATH\u001b[49m\u001b[43m \u001b[49m\u001b[38;5;241;43m+\u001b[39;49m\u001b[43m \u001b[49m\u001b[38;5;124;43m\"\u001b[39;49m\u001b[38;5;124;43m/empty_test_folder\u001b[39;49m\u001b[38;5;124;43m\"\u001b[39;49m\u001b[43m)\u001b[49m\n",
      "File \u001b[1;32m~\\Documents\\MSDS\\Winter2024\\515_Software_Design\\BTS_Flight_Forecast\\flight_forecast\\utils\\data_processing.py:109\u001b[0m, in \u001b[0;36mcombine_weather_data\u001b[1;34m(root_data_folder_path)\u001b[0m\n\u001b[0;32m    107\u001b[0m sys\u001b[38;5;241m.\u001b[39mstdout\u001b[38;5;241m.\u001b[39mflush()\n\u001b[0;32m    108\u001b[0m \u001b[38;5;28;01mif\u001b[39;00m \u001b[38;5;28mlen\u001b[39m(data_to_combine) \u001b[38;5;241m<\u001b[39m \u001b[38;5;241m1\u001b[39m:\n\u001b[1;32m--> 109\u001b[0m     \u001b[38;5;28;01mraise\u001b[39;00m \u001b[38;5;167;01mValueError\u001b[39;00m(\u001b[38;5;124m\"\u001b[39m\u001b[38;5;124mFile path must contain a valid file. No files csvs found.\u001b[39m\u001b[38;5;124m\"\u001b[39m)\n\u001b[0;32m    110\u001b[0m combined_data \u001b[38;5;241m=\u001b[39m pd\u001b[38;5;241m.\u001b[39mconcat(data_to_combine)\n\u001b[0;32m    111\u001b[0m \u001b[38;5;28mprint\u001b[39m(\u001b[38;5;124m'\u001b[39m\u001b[38;5;124mWeather data successfully combined!           \u001b[39m\u001b[38;5;124m'\u001b[39m)\n",
      "\u001b[1;31mValueError\u001b[0m: File path must contain a valid file. No files csvs found."
     ]
    }
   ],
   "source": [
    "#test_airport_df = data_processing.combine_zipped_data(TEST_RESOURCES_PATH + \"/empty_test_folder\")\n",
    "test_weather_df = data_processing.combine_weather_data(TEST_RESOURCES_PATH + \"/empty_test_folder\")"
   ]
  },
  {
   "cell_type": "code",
   "execution_count": null,
   "id": "ea0cb8ca-a975-46f1-8d18-b4b893c76805",
   "metadata": {},
   "outputs": [],
   "source": []
  }
 ],
 "metadata": {
  "kernelspec": {
   "display_name": "Python 3 (ipykernel)",
   "language": "python",
   "name": "python3"
  },
  "language_info": {
   "codemirror_mode": {
    "name": "ipython",
    "version": 3
   },
   "file_extension": ".py",
   "mimetype": "text/x-python",
   "name": "python",
   "nbconvert_exporter": "python",
   "pygments_lexer": "ipython3",
   "version": "3.12.2"
  }
 },
 "nbformat": 4,
 "nbformat_minor": 5
}
