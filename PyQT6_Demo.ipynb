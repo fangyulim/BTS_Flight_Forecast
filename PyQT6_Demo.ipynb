{
 "cells": [
  {
   "cell_type": "code",
   "execution_count": 1,
   "id": "e1247fc6-c78e-433e-af0f-3275004cd926",
   "metadata": {},
   "outputs": [],
   "source": [
    "import sys\n",
    "from PyQt6.QtCore import QSize, Qt\n",
    "from PyQt6.QtWidgets import QApplication, QMainWindow, QPushButton, QLineEdit, QLabel, QVBoxLayout, QComboBox, QWidget"
   ]
  },
  {
   "cell_type": "code",
   "execution_count": 2,
   "id": "0f711532-a821-4618-9a8b-f50199905d89",
   "metadata": {},
   "outputs": [],
   "source": [
    "class MainWindow(QMainWindow):\n",
    "    def __init__(self):\n",
    "        super().__init__()\n",
    "\n",
    "        self.airport_code = None\n",
    "        self.flight_date = None\n",
    "        self.flight_weather = None\n",
    "\n",
    "        layout = QVBoxLayout()\n",
    "        \n",
    "        self.setWindowTitle(\"Flight Delay Predictinator\")\n",
    "\n",
    "        self.airport_label = QLabel(\"Enter Airport Code\")\n",
    "        layout.addWidget(self.airport_label)\n",
    "        self.airport_line_edit = QLineEdit()\n",
    "        layout.addWidget(self.airport_line_edit)\n",
    "\n",
    "        self.flight_date_label = QLabel(\"Enter Flight Date\")\n",
    "        layout.addWidget(self.flight_date_label)\n",
    "        self.flight_date_line_edit = QLineEdit()\n",
    "        self.flight_date_line_edit.setInputMask(\"00/00/0000\")\n",
    "        layout.addWidget(self.flight_date_line_edit)\n",
    "\n",
    "        self.weather_label = QLabel(\"Select Flight Weather\")\n",
    "        layout.addWidget(self.weather_label)\n",
    "        self.weather_drop_down = QComboBox()\n",
    "        self.weather_drop_down.addItems([\"Clear Skies\", \"Rainy\", \"Tornado\"])\n",
    "        self.weather_drop_down.currentTextChanged.connect(self.weather_changed)\n",
    "        layout.addWidget(self.weather_drop_down)\n",
    "        \n",
    "\n",
    "        # Defining new button widget with \"clicked\" signal, defining get_flight_delay\n",
    "        # slot, and pairing the two\n",
    "        self.predict_button = QPushButton(\"Predict Delay\")\n",
    "        self.predict_button.clicked.connect(self.get_flight_delay)\n",
    "        layout.addWidget(self.predict_button)\n",
    "\n",
    "        self.predict_label = QLabel()\n",
    "        layout.addWidget(self.predict_label)\n",
    "\n",
    "        #self.setFixedSize(QSize(400, 300))\n",
    "\n",
    "        # Set the central widget of the Window.\n",
    "        widget = QWidget()\n",
    "        widget.setLayout(layout)\n",
    "        self.setCentralWidget(widget)\n",
    "\n",
    "    \n",
    "    def weather_changed(self, new_weather):\n",
    "        self.flight_weather = new_weather\n",
    "\n",
    "    \n",
    "    def run_cutting_edge_model(self, predictors):\n",
    "        if predictors[2] in [\"Rainy\",\"Tornado\"]:\n",
    "            self.predict_label.setText(\"Delay Likely\")\n",
    "        else:\n",
    "            self.predict_label.setText(\"Delay Not Likely\")\n",
    "\n",
    "    \n",
    "    def get_flight_delay(self):\n",
    "        self.predict_button.setText(\"Running Model...\")\n",
    "        print(self.run_cutting_edge_model([self.airport_code, self.flight_date, self.flight_weather]))\n",
    "        self.predict_button.setText(\"Predict Delay\")\n",
    "\n"
   ]
  },
  {
   "cell_type": "code",
   "execution_count": 3,
   "id": "59500cc5-6da5-4b6a-ae05-3e3c9289a15e",
   "metadata": {},
   "outputs": [
    {
     "name": "stdout",
     "output_type": "stream",
     "text": [
      "None\n",
      "None\n",
      "None\n",
      "None\n"
     ]
    },
    {
     "data": {
      "text/plain": [
       "0"
      ]
     },
     "execution_count": 3,
     "metadata": {},
     "output_type": "execute_result"
    }
   ],
   "source": [
    "app = QApplication(sys.argv)\n",
    "\n",
    "window = MainWindow()\n",
    "window.show()\n",
    "\n",
    "app.exec()"
   ]
  }
 ],
 "metadata": {
  "kernelspec": {
   "display_name": "Python 3 (ipykernel)",
   "language": "python",
   "name": "python3"
  },
  "language_info": {
   "codemirror_mode": {
    "name": "ipython",
    "version": 3
   },
   "file_extension": ".py",
   "mimetype": "text/x-python",
   "name": "python",
   "nbconvert_exporter": "python",
   "pygments_lexer": "ipython3",
   "version": "3.10.6"
  }
 },
 "nbformat": 4,
 "nbformat_minor": 5
}
