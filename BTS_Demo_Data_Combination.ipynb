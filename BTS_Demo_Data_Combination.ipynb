{
 "cells": [
  {
   "cell_type": "markdown",
   "id": "4c238848-8b10-4eef-8e42-aa8d475f9eff",
   "metadata": {},
   "source": [
    "### 1) Data Preparation"
   ]
  },
  {
   "cell_type": "code",
   "execution_count": 95,
   "id": "2f6e87fe-cf2f-48f0-9332-8a3e11f57c33",
   "metadata": {},
   "outputs": [],
   "source": [
    "import pandas as pd\n",
    "import numpy as np\n",
    "import zipfile\n",
    "import os\n",
    "import datetime"
   ]
  },
  {
   "cell_type": "code",
   "execution_count": 96,
   "id": "143e4459-2016-46b4-b100-d0ee49ef4307",
   "metadata": {},
   "outputs": [
    {
     "name": "stdout",
     "output_type": "stream",
     "text": [
      "Data successfully combined!           \n"
     ]
    }
   ],
   "source": [
    "def combine_zipped_data(root_data_folder_path):\n",
    "    '''\n",
    "    This function opens all zip files in a given folder and combines any csv data found\n",
    "    within them into a single Pandas DataFrame.\n",
    "    \n",
    "    Parameters\n",
    "    ----------\n",
    "    root_data_folder_path: A string containing the path to a folder containing zip files\n",
    "                           with csv data.\n",
    "    \n",
    "    Returns\n",
    "    -------\n",
    "    A Pandas Dataframe with all csv data found in the given folder, combined together along\n",
    "    the index (0) axis.\n",
    "    '''\n",
    "    # Creating empty list of DataFrames\n",
    "    data_to_combine = []\n",
    "    # Looping through raw data folder\n",
    "    with os.scandir(root_data_folder_path) as root_data_folder:\n",
    "        total_files = len(os.listdir(root_data_folder_path))\n",
    "        current_progress = 0\n",
    "        for entry in root_data_folder:\n",
    "            # Displaying current progress\n",
    "            current_progress += 1\n",
    "            print(f\"Processing file {current_progress}/{total_files} ...\", end=\"\\r\")\n",
    "            # Searching for zipped data\n",
    "            if entry.name.endswith(\".zip\") and entry.is_file():\n",
    "                # Opening zipped data folders\n",
    "                with zipfile.ZipFile(root_data_folder_path + '/' + entry.name, \"r\") as zipped:\n",
    "                    for name in zipped.namelist():\n",
    "                        # Searching for csv files in zipped folders\n",
    "                        if name.endswith('.csv'):\n",
    "                            with zipped.open(name) as delay_data:\n",
    "                                # Reading csv and adding to list of datasets\n",
    "                                data_to_combine.append(pd.read_csv(delay_data, low_memory=False))\n",
    "    # Attempting to combine and return collected data\n",
    "    print('All files unpacked. Combining data...', end='\\r')\n",
    "    combined_data = pd.concat(data_to_combine)\n",
    "    print('Data successfully combined!           ')\n",
    "    return combined_data\n",
    "\n",
    "flight_df = combine_zipped_data(\"BTS_Data\")\n",
    "flight_df = flight_df.dropna(subset=[\"FlightDate\",\"DepTime\"])"
   ]
  },
  {
   "cell_type": "code",
   "execution_count": 105,
   "id": "c1d41e17-e237-462e-8e17-c3c1f301c9f0",
   "metadata": {},
   "outputs": [],
   "source": [
    "# Removing all columns that are more than 5% NaN values \n",
    "flight_df = flight_df[flight_df.columns[flight_df.isna().sum() < flight_df.shape[0] / 20]]\n",
    "# Dropping rows of data with NaN in the target delay column (ArrDel15)\n",
    "flight_df = flight_df.dropna(subset=\"ArrDel15\")"
   ]
  },
  {
   "cell_type": "code",
   "execution_count": 170,
   "id": "e7dcf046-bf2f-4f49-a8b9-753f7243d635",
   "metadata": {},
   "outputs": [
    {
     "name": "stdout",
     "output_type": "stream",
     "text": [
      "Data successfully combined!           \n"
     ]
    }
   ],
   "source": [
    "def combine_weather_data(root_data_folder_path):\n",
    "    '''\n",
    "    \n",
    "    '''\n",
    "    data_to_combine = []\n",
    "    with os.scandir(root_data_folder_path) as root_data_folder:\n",
    "        total_files = len(os.listdir(root_data_folder_path))\n",
    "        current_progress = 0\n",
    "        for entry in root_data_folder:\n",
    "            # Displaying current progress\n",
    "            current_progress += 1\n",
    "            print(f\"Processing file {current_progress}/{total_files} ...\", end=\"\\r\")\n",
    "            # Searching for csv data\n",
    "            if entry.is_file() and entry.name[-4:] == \".csv\":\n",
    "                # Collecting csv files for combination\n",
    "                airport_df = pd.read_csv(entry.path)\n",
    "                airport_df.loc[:,\"airport_code\"] = entry.name[:-4]\n",
    "                airport_df = airport_df.fillna(value={\"gust\":0})\n",
    "                data_to_combine.append(airport_df)\n",
    "    # Attempting to combine and return collected data\n",
    "    print('All files unpacked. Combining data...', end='\\r')\n",
    "    combined_data = pd.concat(data_to_combine)\n",
    "    print('Data successfully combined!           ')\n",
    "    return combined_data\n",
    "\n",
    "root_data_folder_path = \"WeatherData_Clean\"\n",
    "weather_df = combine_weather_data(root_data_folder_path)"
   ]
  },
  {
   "cell_type": "code",
   "execution_count": 178,
   "id": "6f683b4c-83bb-4b95-9c8f-2d9021360b2d",
   "metadata": {},
   "outputs": [],
   "source": [
    "# Dropping extremely small number of rows with null windspeed/dewpoint/temp values\n",
    "weather_df = weather_df.dropna()"
   ]
  },
  {
   "cell_type": "code",
   "execution_count": 183,
   "id": "57604511-2d7e-4ccd-a97e-052c569117e6",
   "metadata": {},
   "outputs": [
    {
     "name": "stdout",
     "output_type": "stream",
     "text": [
      "Currently processing airport code SEA. 0/1  \r"
     ]
    },
    {
     "name": "stderr",
     "output_type": "stream",
     "text": [
      "C:\\Users\\bruno\\AppData\\Local\\Temp\\ipykernel_39604\\1582042063.py:32: FutureWarning: Setting an item of incompatible dtype is deprecated and will raise in a future error of pandas. Value 'KSEA' has dtype incompatible with float64, please explicitly cast to a compatible dtype first.\n",
      "  flight_df.loc[flight_ind,weather_df.columns] = closest_weather_row\n",
      "C:\\Users\\bruno\\AppData\\Local\\Temp\\ipykernel_39604\\1582042063.py:32: FutureWarning: Setting an item of incompatible dtype is deprecated and will raise in a future error of pandas. Value 'Seattle' has dtype incompatible with float64, please explicitly cast to a compatible dtype first.\n",
      "  flight_df.loc[flight_ind,weather_df.columns] = closest_weather_row\n",
      "C:\\Users\\bruno\\AppData\\Local\\Temp\\ipykernel_39604\\1582042063.py:32: FutureWarning: Setting an item of incompatible dtype is deprecated and will raise in a future error of pandas. Value 'D' has dtype incompatible with float64, please explicitly cast to a compatible dtype first.\n",
      "  flight_df.loc[flight_ind,weather_df.columns] = closest_weather_row\n",
      "C:\\Users\\bruno\\AppData\\Local\\Temp\\ipykernel_39604\\1582042063.py:32: FutureWarning: Setting an item of incompatible dtype is deprecated and will raise in a future error of pandas. Value 'S' has dtype incompatible with float64, please explicitly cast to a compatible dtype first.\n",
      "  flight_df.loc[flight_ind,weather_df.columns] = closest_weather_row\n",
      "C:\\Users\\bruno\\AppData\\Local\\Temp\\ipykernel_39604\\1582042063.py:32: FutureWarning: Setting an item of incompatible dtype is deprecated and will raise in a future error of pandas. Value 'Cloudy' has dtype incompatible with float64, please explicitly cast to a compatible dtype first.\n",
      "  flight_df.loc[flight_ind,weather_df.columns] = closest_weather_row\n",
      "C:\\Users\\bruno\\AppData\\Local\\Temp\\ipykernel_39604\\1582042063.py:32: FutureWarning: Setting an item of incompatible dtype is deprecated and will raise in a future error of pandas. Value 'SEA' has dtype incompatible with float64, please explicitly cast to a compatible dtype first.\n",
      "  flight_df.loc[flight_ind,weather_df.columns] = closest_weather_row\n",
      "C:\\Users\\bruno\\AppData\\Local\\Temp\\ipykernel_39604\\1582042063.py:32: FutureWarning: Setting an item of incompatible dtype is deprecated and will raise in a future error of pandas. Value '2022-06-01 22:53:00' has dtype incompatible with float64, please explicitly cast to a compatible dtype first.\n",
      "  flight_df.loc[flight_ind,weather_df.columns] = closest_weather_row\n",
      "C:\\Users\\bruno\\AppData\\Local\\Temp\\ipykernel_39604\\1582042063.py:32: FutureWarning: Setting an item of incompatible dtype is deprecated and will raise in a future error of pandas. Value '2022-06-02 00:53:00' has dtype incompatible with float64, please explicitly cast to a compatible dtype first.\n",
      "  flight_df.loc[flight_ind,weather_df.columns] = closest_weather_row\n"
     ]
    },
    {
     "name": "stdout",
     "output_type": "stream",
     "text": [
      "Data successfully attached!                                       \r"
     ]
    }
   ],
   "source": [
    "def attach_origin_weather_data(flight_df, weather_df):\n",
    "    '''\n",
    "    \n",
    "    '''\n",
    "    flight_df.loc[:,weather_df.columns] = np.NaN\n",
    "    n_airports_to_inspect = len(flight_df.Origin.unique())\n",
    "    airports_with_weather = weather_df.airport_code.unique()\n",
    "    # Looping over all airport codes\n",
    "    for ind, airport_code in enumerate(list(flight_df.Origin.unique())):\n",
    "        # Checking if weather data exists for given airport\n",
    "        if airport_code in airports_with_weather:\n",
    "            print(f'Currently processing airport code {airport_code}. {ind}/{n_airports_to_inspect}  ', end='\\r')\n",
    "            # Looping over all flights by airport origin code\n",
    "            airport_flight_df = flight_df[flight_df.Origin == airport_code]\n",
    "            airport_weather_df = weather_df[weather_df.airport_code == airport_code]\n",
    "            # Getting relative flight departure date times\n",
    "            airport_date_dt = airport_flight_df.FlightDate.apply(lambda datestring: datetime.datetime.strptime(datestring, \"%Y-%m-%d\").timestamp())\n",
    "            airport_date_dt = airport_date_dt + airport_flight_df.DepTime\n",
    "            # Getting relative weather data times\n",
    "            weather_date_dt = airport_weather_df.record_start_date.apply(lambda datestring: datetime.datetime.strptime(datestring, \"%Y-%m-%d %H:%M:%S\").timestamp())\n",
    "            # Getting differences in times\n",
    "            date_diff = airport_date_dt - weather_date_dt\n",
    "            for entry_ind, entry_time in enumerate(weather_date_dt):\n",
    "                #if entry_ind % 100 == 1:\n",
    "                #    print(f\"Currently processing entry number {entry_ind}\")\n",
    "                # Finding closest weather collection time to current flight entry\n",
    "                date_diff = airport_date_dt - entry_time\n",
    "                smallest_diff_ind = date_diff.tolist().index(min(date_diff))\n",
    "                # Finding associated row of closest weather collection time\n",
    "                closest_weather_row = airport_weather_df.iloc[smallest_diff_ind,:]\n",
    "                # Finding associated row of current flight entry\n",
    "                flight_ind = airport_flight_df.index[entry_ind]\n",
    "                # Attaching weather row to flight row\n",
    "                flight_df.loc[flight_ind,weather_df.columns] = closest_weather_row\n",
    "    print(\"Data successfully attached!                                       \", end=\"\\r\")\n",
    "    return flight_df\n",
    "\n",
    "# Restricting attachment to only airports with known weather data\n",
    "relevant_flights_df = flight_df[flight_df.Origin.isin(weather_df.airport_code.unique())]\n",
    "# Subsetting dataset for demo testing purposes (NOT FINAL)\n",
    "relevant_flights_df = relevant_flights_df[relevant_flights_df.Origin == \"SEA\"]\n",
    "relevant_flights_df = relevant_flights_df[relevant_flights_df.Year == 2022]\n",
    "relevant_flights_df = relevant_flights_df[relevant_flights_df.Month.isin((5,6,7))]\n",
    "test = attach_origin_weather_data(relevant_flights_df,weather_df)"
   ]
  },
  {
   "cell_type": "code",
   "execution_count": 92,
   "id": "4838a51f-8bf9-4f05-88c5-0d80a107659f",
   "metadata": {},
   "outputs": [
    {
     "data": {
      "text/plain": [
       "(85790, 147)"
      ]
     },
     "execution_count": 92,
     "metadata": {},
     "output_type": "execute_result"
    }
   ],
   "source": [
    "flight_df[flight_df.Origin.isin(weather_df.airport_code.unique())].shape"
   ]
  },
  {
   "cell_type": "code",
   "execution_count": 75,
   "id": "4e8eef90-a312-4c52-8627-2d9d9b959942",
   "metadata": {},
   "outputs": [
    {
     "data": {
      "text/plain": [
       "(38,)"
      ]
     },
     "execution_count": 75,
     "metadata": {},
     "output_type": "execute_result"
    }
   ],
   "source": [
    "flight_df.head(2000).origin.unique().shape"
   ]
  },
  {
   "cell_type": "code",
   "execution_count": 72,
   "id": "eb4d0b7f-7e05-4274-8f4d-df46aead5188",
   "metadata": {},
   "outputs": [
    {
     "data": {
      "text/plain": [
       "['Year',\n",
       " 'Quarter',\n",
       " 'Month',\n",
       " 'DayofMonth',\n",
       " 'DayOfWeek',\n",
       " 'FlightDate',\n",
       " 'Marketing_Airline_Network',\n",
       " 'Operated_or_Branded_Code_Share_Partners',\n",
       " 'DOT_ID_Marketing_Airline',\n",
       " 'IATA_Code_Marketing_Airline',\n",
       " 'Flight_Number_Marketing_Airline',\n",
       " 'Originally_Scheduled_Code_Share_Airline',\n",
       " 'DOT_ID_Originally_Scheduled_Code_Share_Airline',\n",
       " 'IATA_Code_Originally_Scheduled_Code_Share_Airline',\n",
       " 'Flight_Num_Originally_Scheduled_Code_Share_Airline',\n",
       " 'Operating_Airline ',\n",
       " 'DOT_ID_Operating_Airline',\n",
       " 'IATA_Code_Operating_Airline',\n",
       " 'Tail_Number',\n",
       " 'Flight_Number_Operating_Airline',\n",
       " 'OriginAirportID',\n",
       " 'OriginAirportSeqID',\n",
       " 'OriginCityMarketID',\n",
       " 'Origin',\n",
       " 'OriginCityName',\n",
       " 'OriginState',\n",
       " 'OriginStateFips',\n",
       " 'OriginStateName',\n",
       " 'OriginWac',\n",
       " 'DestAirportID',\n",
       " 'DestAirportSeqID',\n",
       " 'DestCityMarketID',\n",
       " 'Dest',\n",
       " 'DestCityName',\n",
       " 'DestState',\n",
       " 'DestStateFips',\n",
       " 'DestStateName',\n",
       " 'DestWac',\n",
       " 'CRSDepTime',\n",
       " 'DepTime',\n",
       " 'DepDelay',\n",
       " 'DepDelayMinutes',\n",
       " 'DepDel15',\n",
       " 'DepartureDelayGroups',\n",
       " 'DepTimeBlk',\n",
       " 'TaxiOut',\n",
       " 'WheelsOff',\n",
       " 'WheelsOn',\n",
       " 'TaxiIn',\n",
       " 'CRSArrTime',\n",
       " 'ArrTime',\n",
       " 'ArrDelay',\n",
       " 'ArrDelayMinutes',\n",
       " 'ArrDel15',\n",
       " 'ArrivalDelayGroups',\n",
       " 'ArrTimeBlk',\n",
       " 'Cancelled',\n",
       " 'CancellationCode',\n",
       " 'Diverted',\n",
       " 'CRSElapsedTime',\n",
       " 'ActualElapsedTime',\n",
       " 'AirTime',\n",
       " 'Flights',\n",
       " 'Distance',\n",
       " 'DistanceGroup',\n",
       " 'CarrierDelay',\n",
       " 'WeatherDelay',\n",
       " 'NASDelay',\n",
       " 'SecurityDelay',\n",
       " 'LateAircraftDelay',\n",
       " 'FirstDepTime',\n",
       " 'TotalAddGTime',\n",
       " 'LongestAddGTime',\n",
       " 'DivAirportLandings',\n",
       " 'DivReachedDest',\n",
       " 'DivActualElapsedTime',\n",
       " 'DivArrDelay',\n",
       " 'DivDistance',\n",
       " 'Div1Airport',\n",
       " 'Div1AirportID',\n",
       " 'Div1AirportSeqID',\n",
       " 'Div1WheelsOn',\n",
       " 'Div1TotalGTime',\n",
       " 'Div1LongestGTime',\n",
       " 'Div1WheelsOff',\n",
       " 'Div1TailNum',\n",
       " 'Div2Airport',\n",
       " 'Div2AirportID',\n",
       " 'Div2AirportSeqID',\n",
       " 'Div2WheelsOn',\n",
       " 'Div2TotalGTime',\n",
       " 'Div2LongestGTime',\n",
       " 'Div2WheelsOff',\n",
       " 'Div2TailNum',\n",
       " 'Div3Airport',\n",
       " 'Div3AirportID',\n",
       " 'Div3AirportSeqID',\n",
       " 'Div3WheelsOn',\n",
       " 'Div3TotalGTime',\n",
       " 'Div3LongestGTime',\n",
       " 'Div3WheelsOff',\n",
       " 'Div3TailNum',\n",
       " 'Div4Airport',\n",
       " 'Div4AirportID',\n",
       " 'Div4AirportSeqID',\n",
       " 'Div4WheelsOn',\n",
       " 'Div4TotalGTime',\n",
       " 'Div4LongestGTime',\n",
       " 'Div4WheelsOff',\n",
       " 'Div4TailNum',\n",
       " 'Div5Airport',\n",
       " 'Div5AirportID',\n",
       " 'Div5AirportSeqID',\n",
       " 'Div5WheelsOn',\n",
       " 'Div5TotalGTime',\n",
       " 'Div5LongestGTime',\n",
       " 'Div5WheelsOff',\n",
       " 'Div5TailNum',\n",
       " 'Duplicate',\n",
       " 'Unnamed: 119']"
      ]
     },
     "execution_count": 72,
     "metadata": {},
     "output_type": "execute_result"
    }
   ],
   "source": [
    "flight_df.columns.tolist()"
   ]
  },
  {
   "cell_type": "code",
   "execution_count": 22,
   "id": "18452dec-a060-47ff-b39a-1f017e2cbd80",
   "metadata": {},
   "outputs": [
    {
     "data": {
      "text/plain": [
       "['Year',\n",
       " 'Quarter',\n",
       " 'Month',\n",
       " 'DayofMonth',\n",
       " 'DayOfWeek',\n",
       " 'FlightDate',\n",
       " 'Marketing_Airline_Network',\n",
       " 'Operated_or_Branded_Code_Share_Partners',\n",
       " 'DOT_ID_Marketing_Airline',\n",
       " 'IATA_Code_Marketing_Airline',\n",
       " 'Flight_Number_Marketing_Airline',\n",
       " 'Originally_Scheduled_Code_Share_Airline',\n",
       " 'DOT_ID_Originally_Scheduled_Code_Share_Airline',\n",
       " 'IATA_Code_Originally_Scheduled_Code_Share_Airline',\n",
       " 'Flight_Num_Originally_Scheduled_Code_Share_Airline',\n",
       " 'Operating_Airline ',\n",
       " 'DOT_ID_Operating_Airline',\n",
       " 'IATA_Code_Operating_Airline',\n",
       " 'Tail_Number',\n",
       " 'Flight_Number_Operating_Airline',\n",
       " 'OriginAirportID',\n",
       " 'OriginAirportSeqID',\n",
       " 'OriginCityMarketID',\n",
       " 'Origin',\n",
       " 'OriginCityName',\n",
       " 'OriginState',\n",
       " 'OriginStateFips',\n",
       " 'OriginStateName',\n",
       " 'OriginWac',\n",
       " 'DestAirportID',\n",
       " 'DestAirportSeqID',\n",
       " 'DestCityMarketID',\n",
       " 'Dest',\n",
       " 'DestCityName',\n",
       " 'DestState',\n",
       " 'DestStateFips',\n",
       " 'DestStateName',\n",
       " 'DestWac',\n",
       " 'CRSDepTime',\n",
       " 'DepTime',\n",
       " 'DepDelay',\n",
       " 'DepDelayMinutes',\n",
       " 'DepDel15',\n",
       " 'DepartureDelayGroups',\n",
       " 'DepTimeBlk',\n",
       " 'TaxiOut',\n",
       " 'WheelsOff',\n",
       " 'WheelsOn',\n",
       " 'TaxiIn',\n",
       " 'CRSArrTime',\n",
       " 'ArrTime',\n",
       " 'ArrDelay',\n",
       " 'ArrDelayMinutes',\n",
       " 'ArrDel15',\n",
       " 'ArrivalDelayGroups',\n",
       " 'ArrTimeBlk',\n",
       " 'Cancelled',\n",
       " 'CancellationCode',\n",
       " 'Diverted',\n",
       " 'CRSElapsedTime',\n",
       " 'ActualElapsedTime',\n",
       " 'AirTime',\n",
       " 'Flights',\n",
       " 'Distance',\n",
       " 'DistanceGroup',\n",
       " 'CarrierDelay',\n",
       " 'WeatherDelay',\n",
       " 'NASDelay',\n",
       " 'SecurityDelay',\n",
       " 'LateAircraftDelay',\n",
       " 'FirstDepTime',\n",
       " 'TotalAddGTime',\n",
       " 'LongestAddGTime',\n",
       " 'DivAirportLandings',\n",
       " 'DivReachedDest',\n",
       " 'DivActualElapsedTime',\n",
       " 'DivArrDelay',\n",
       " 'DivDistance',\n",
       " 'Div1Airport',\n",
       " 'Div1AirportID',\n",
       " 'Div1AirportSeqID',\n",
       " 'Div1WheelsOn',\n",
       " 'Div1TotalGTime',\n",
       " 'Div1LongestGTime',\n",
       " 'Div1WheelsOff',\n",
       " 'Div1TailNum',\n",
       " 'Div2Airport',\n",
       " 'Div2AirportID',\n",
       " 'Div2AirportSeqID',\n",
       " 'Div2WheelsOn',\n",
       " 'Div2TotalGTime',\n",
       " 'Div2LongestGTime',\n",
       " 'Div2WheelsOff',\n",
       " 'Div2TailNum',\n",
       " 'Div3Airport',\n",
       " 'Div3AirportID',\n",
       " 'Div3AirportSeqID',\n",
       " 'Div3WheelsOn',\n",
       " 'Div3TotalGTime',\n",
       " 'Div3LongestGTime',\n",
       " 'Div3WheelsOff',\n",
       " 'Div3TailNum',\n",
       " 'Div4Airport',\n",
       " 'Div4AirportID',\n",
       " 'Div4AirportSeqID',\n",
       " 'Div4WheelsOn',\n",
       " 'Div4TotalGTime',\n",
       " 'Div4LongestGTime',\n",
       " 'Div4WheelsOff',\n",
       " 'Div4TailNum',\n",
       " 'Div5Airport',\n",
       " 'Div5AirportID',\n",
       " 'Div5AirportSeqID',\n",
       " 'Div5WheelsOn',\n",
       " 'Div5TotalGTime',\n",
       " 'Div5LongestGTime',\n",
       " 'Div5WheelsOff',\n",
       " 'Div5TailNum',\n",
       " 'Duplicate',\n",
       " 'Unnamed: 119']"
      ]
     },
     "execution_count": 22,
     "metadata": {},
     "output_type": "execute_result"
    }
   ],
   "source": [
    "flight_df.columns.tolist()"
   ]
  },
  {
   "cell_type": "code",
   "execution_count": 23,
   "id": "07a93794-daaa-4e46-a01e-f1a6dfa0e030",
   "metadata": {},
   "outputs": [
    {
     "data": {
      "text/html": [
       "<div>\n",
       "<style scoped>\n",
       "    .dataframe tbody tr th:only-of-type {\n",
       "        vertical-align: middle;\n",
       "    }\n",
       "\n",
       "    .dataframe tbody tr th {\n",
       "        vertical-align: top;\n",
       "    }\n",
       "\n",
       "    .dataframe thead th {\n",
       "        text-align: right;\n",
       "    }\n",
       "</style>\n",
       "<table border=\"1\" class=\"dataframe\">\n",
       "  <thead>\n",
       "    <tr style=\"text-align: right;\">\n",
       "      <th></th>\n",
       "      <th>FlightDate</th>\n",
       "      <th>DepTime</th>\n",
       "    </tr>\n",
       "  </thead>\n",
       "  <tbody>\n",
       "    <tr>\n",
       "      <th>0</th>\n",
       "      <td>2022-05-03</td>\n",
       "      <td>1018.0</td>\n",
       "    </tr>\n",
       "    <tr>\n",
       "      <th>1</th>\n",
       "      <td>2022-05-04</td>\n",
       "      <td>1002.0</td>\n",
       "    </tr>\n",
       "    <tr>\n",
       "      <th>2</th>\n",
       "      <td>2022-05-01</td>\n",
       "      <td>2039.0</td>\n",
       "    </tr>\n",
       "    <tr>\n",
       "      <th>3</th>\n",
       "      <td>2022-05-02</td>\n",
       "      <td>2036.0</td>\n",
       "    </tr>\n",
       "    <tr>\n",
       "      <th>4</th>\n",
       "      <td>2022-05-03</td>\n",
       "      <td>2035.0</td>\n",
       "    </tr>\n",
       "  </tbody>\n",
       "</table>\n",
       "</div>"
      ],
      "text/plain": [
       "   FlightDate  DepTime\n",
       "0  2022-05-03   1018.0\n",
       "1  2022-05-04   1002.0\n",
       "2  2022-05-01   2039.0\n",
       "3  2022-05-02   2036.0\n",
       "4  2022-05-03   2035.0"
      ]
     },
     "execution_count": 23,
     "metadata": {},
     "output_type": "execute_result"
    }
   ],
   "source": [
    "flight_df.head()[[\"FlightDate\",\"DepTime\"]]"
   ]
  },
  {
   "cell_type": "code",
   "execution_count": 54,
   "id": "4947878a-31f1-4080-a22d-77339bb2ab4d",
   "metadata": {},
   "outputs": [],
   "source": [
    "# Getting relative flight departure date times\n",
    "flight_date_dt = flight_df.FlightDate.apply(lambda datestring: datetime.datetime.strptime(datestring, \"%Y-%m-%d\").timestamp())\n",
    "flight_date_dt = flight_date_dt + flight_df.DepTime\n",
    "# Getting relative weather data times\n",
    "weather_date_dt = weather_df.record_start_date.apply(lambda datestring: datetime.datetime.strptime(datestring, \"%Y-%m-%d %H:%M:%S\").timestamp())\n",
    "\n"
   ]
  },
  {
   "cell_type": "code",
   "execution_count": 87,
   "id": "24ccb4a2-f702-4dc8-87ed-21f79b883303",
   "metadata": {},
   "outputs": [
    {
     "data": {
      "text/plain": [
       "pandas.core.series.Series"
      ]
     },
     "execution_count": 87,
     "metadata": {},
     "output_type": "execute_result"
    }
   ],
   "source": [
    "type(weather_date_dt - flight_date_dt[0])"
   ]
  },
  {
   "cell_type": "code",
   "execution_count": 56,
   "id": "fba9d4fe-99f6-4e15-a6b5-953cbbf2fcf2",
   "metadata": {},
   "outputs": [
    {
     "data": {
      "text/plain": [
       "0"
      ]
     },
     "execution_count": 56,
     "metadata": {},
     "output_type": "execute_result"
    }
   ],
   "source": [
    "sum(np.isnan(weather_date_dt))"
   ]
  },
  {
   "cell_type": "code",
   "execution_count": 57,
   "id": "2fbae3c9-6f4c-468c-9fba-d83d97688ec5",
   "metadata": {},
   "outputs": [
    {
     "data": {
      "text/plain": [
       "0"
      ]
     },
     "execution_count": 57,
     "metadata": {},
     "output_type": "execute_result"
    }
   ],
   "source": [
    "sum(np.isnan(flight_date_dt))"
   ]
  },
  {
   "cell_type": "code",
   "execution_count": 67,
   "id": "c45f8be1-12bc-4ca5-947a-4976215f3042",
   "metadata": {},
   "outputs": [
    {
     "data": {
      "text/plain": [
       "0        BIL\n",
       "1        BIL\n",
       "2        BIL\n",
       "3        BIL\n",
       "4        BIL\n",
       "        ... \n",
       "20244    TWF\n",
       "20245    TWF\n",
       "20246    TWF\n",
       "20247    TWF\n",
       "20248    TWF\n",
       "Name: airport_code, Length: 720123, dtype: object"
      ]
     },
     "execution_count": 67,
     "metadata": {},
     "output_type": "execute_result"
    }
   ],
   "source": [
    "weather_df.airport_code"
   ]
  },
  {
   "cell_type": "code",
   "execution_count": 109,
   "id": "65eba359-8588-4bed-b809-74cfdc9ffdd5",
   "metadata": {},
   "outputs": [
    {
     "data": {
      "text/plain": [
       "['Year',\n",
       " 'Quarter',\n",
       " 'Month',\n",
       " 'DayofMonth',\n",
       " 'DayOfWeek',\n",
       " 'FlightDate',\n",
       " 'Marketing_Airline_Network',\n",
       " 'Operated_or_Branded_Code_Share_Partners',\n",
       " 'DOT_ID_Marketing_Airline',\n",
       " 'IATA_Code_Marketing_Airline',\n",
       " 'Flight_Number_Marketing_Airline',\n",
       " 'Operating_Airline ',\n",
       " 'DOT_ID_Operating_Airline',\n",
       " 'IATA_Code_Operating_Airline',\n",
       " 'Tail_Number',\n",
       " 'Flight_Number_Operating_Airline',\n",
       " 'OriginAirportID',\n",
       " 'OriginAirportSeqID',\n",
       " 'OriginCityMarketID',\n",
       " 'Origin',\n",
       " 'OriginCityName',\n",
       " 'OriginState',\n",
       " 'OriginStateFips',\n",
       " 'OriginStateName',\n",
       " 'OriginWac',\n",
       " 'DestAirportID',\n",
       " 'DestAirportSeqID',\n",
       " 'DestCityMarketID',\n",
       " 'Dest',\n",
       " 'DestCityName',\n",
       " 'DestState',\n",
       " 'DestStateFips',\n",
       " 'DestStateName',\n",
       " 'DestWac',\n",
       " 'CRSDepTime',\n",
       " 'DepTime',\n",
       " 'DepDelay',\n",
       " 'DepDelayMinutes',\n",
       " 'DepDel15',\n",
       " 'DepartureDelayGroups',\n",
       " 'DepTimeBlk',\n",
       " 'TaxiOut',\n",
       " 'WheelsOff',\n",
       " 'WheelsOn',\n",
       " 'TaxiIn',\n",
       " 'CRSArrTime',\n",
       " 'ArrTime',\n",
       " 'ArrDelay',\n",
       " 'ArrDelayMinutes',\n",
       " 'ArrDel15',\n",
       " 'ArrivalDelayGroups',\n",
       " 'ArrTimeBlk',\n",
       " 'Cancelled',\n",
       " 'Diverted',\n",
       " 'CRSElapsedTime',\n",
       " 'ActualElapsedTime',\n",
       " 'AirTime',\n",
       " 'Flights',\n",
       " 'Distance',\n",
       " 'DistanceGroup',\n",
       " 'DivAirportLandings',\n",
       " 'Duplicate',\n",
       " 'Unnamed: 0',\n",
       " 'obs_id',\n",
       " 'obs_name',\n",
       " 'valid_time_gmt',\n",
       " 'expire_time_gmt',\n",
       " 'day_ind',\n",
       " 'temp',\n",
       " 'dewPt',\n",
       " 'rh',\n",
       " 'wdir_cardinal',\n",
       " 'gust',\n",
       " 'wspd',\n",
       " 'pressure',\n",
       " 'precip_hrly',\n",
       " 'wx_phrase',\n",
       " 'location_id',\n",
       " 'record_start_date',\n",
       " 'start_day',\n",
       " 'start_month',\n",
       " 'start_year',\n",
       " 'start_isoweekday',\n",
       " 'start_hour_gmt',\n",
       " 'start_minute_gmt',\n",
       " 'record_end_date',\n",
       " 'end_hour_gmt',\n",
       " 'end_minute_gmt',\n",
       " 'airport_code']"
      ]
     },
     "execution_count": 109,
     "metadata": {},
     "output_type": "execute_result"
    }
   ],
   "source": [
    "test.columns.tolist()"
   ]
  },
  {
   "cell_type": "code",
   "execution_count": 111,
   "id": "3fc96ca9-b5a0-49c0-bd65-7dc46f36ec1b",
   "metadata": {},
   "outputs": [
    {
     "data": {
      "text/plain": [
       "[0,\n",
       " 0,\n",
       " 0,\n",
       " 0,\n",
       " 0,\n",
       " 0,\n",
       " 0,\n",
       " 0,\n",
       " 0,\n",
       " 0,\n",
       " 0,\n",
       " 0,\n",
       " 0,\n",
       " 0,\n",
       " 0,\n",
       " 0,\n",
       " 0,\n",
       " 0,\n",
       " 0,\n",
       " 0,\n",
       " 0,\n",
       " 0,\n",
       " 0,\n",
       " 0,\n",
       " 0,\n",
       " 0,\n",
       " 0,\n",
       " 0,\n",
       " 0,\n",
       " 0,\n",
       " 0,\n",
       " 0,\n",
       " 0,\n",
       " 0,\n",
       " 0,\n",
       " 0,\n",
       " 0,\n",
       " 0,\n",
       " 0,\n",
       " 0,\n",
       " 0,\n",
       " 0,\n",
       " 0,\n",
       " 0,\n",
       " 0,\n",
       " 0,\n",
       " 0,\n",
       " 0,\n",
       " 0,\n",
       " 0,\n",
       " 0,\n",
       " 0,\n",
       " 0,\n",
       " 0,\n",
       " 0,\n",
       " 0,\n",
       " 0,\n",
       " 0,\n",
       " 0,\n",
       " 0,\n",
       " 0,\n",
       " 0,\n",
       " 26385,\n",
       " 26385,\n",
       " 26385,\n",
       " 26385,\n",
       " 26385,\n",
       " 26385,\n",
       " 26385,\n",
       " 26385,\n",
       " 26385,\n",
       " 26385,\n",
       " 45531,\n",
       " 26385,\n",
       " 26385,\n",
       " 26385,\n",
       " 26385,\n",
       " 26385,\n",
       " 26385,\n",
       " 26385,\n",
       " 26385,\n",
       " 26385,\n",
       " 26385,\n",
       " 26385,\n",
       " 26385,\n",
       " 26385,\n",
       " 26385,\n",
       " 26385,\n",
       " 26385]"
      ]
     },
     "execution_count": 111,
     "metadata": {},
     "output_type": "execute_result"
    }
   ],
   "source": [
    "test.isna().sum().tolist()"
   ]
  },
  {
   "cell_type": "code",
   "execution_count": 147,
   "id": "06b34bed-1330-40d8-814a-c9b05c27c7e4",
   "metadata": {},
   "outputs": [
    {
     "data": {
      "text/html": [
       "<div>\n",
       "<style scoped>\n",
       "    .dataframe tbody tr th:only-of-type {\n",
       "        vertical-align: middle;\n",
       "    }\n",
       "\n",
       "    .dataframe tbody tr th {\n",
       "        vertical-align: top;\n",
       "    }\n",
       "\n",
       "    .dataframe thead th {\n",
       "        text-align: right;\n",
       "    }\n",
       "</style>\n",
       "<table border=\"1\" class=\"dataframe\">\n",
       "  <thead>\n",
       "    <tr style=\"text-align: right;\">\n",
       "      <th></th>\n",
       "      <th>day_ind</th>\n",
       "      <th>temp</th>\n",
       "      <th>dewPt</th>\n",
       "      <th>rh</th>\n",
       "      <th>wdir_cardinal</th>\n",
       "      <th>gust</th>\n",
       "      <th>wspd</th>\n",
       "      <th>pressure</th>\n",
       "      <th>precip_hrly</th>\n",
       "      <th>wx_phrase</th>\n",
       "      <th>...</th>\n",
       "      <th>start_day</th>\n",
       "      <th>start_month</th>\n",
       "      <th>start_year</th>\n",
       "      <th>start_isoweekday</th>\n",
       "      <th>start_hour_gmt</th>\n",
       "      <th>start_minute_gmt</th>\n",
       "      <th>record_end_date</th>\n",
       "      <th>end_hour_gmt</th>\n",
       "      <th>end_minute_gmt</th>\n",
       "      <th>airport_code</th>\n",
       "    </tr>\n",
       "  </thead>\n",
       "  <tbody>\n",
       "    <tr>\n",
       "      <th>5693</th>\n",
       "      <td>D</td>\n",
       "      <td>55.0</td>\n",
       "      <td>48.0</td>\n",
       "      <td>77.0</td>\n",
       "      <td>NNE</td>\n",
       "      <td>NaN</td>\n",
       "      <td>7.0</td>\n",
       "      <td>29.55</td>\n",
       "      <td>0.0</td>\n",
       "      <td>Partly Cloudy</td>\n",
       "      <td>...</td>\n",
       "      <td>1.0</td>\n",
       "      <td>6.0</td>\n",
       "      <td>2022.0</td>\n",
       "      <td>2.0</td>\n",
       "      <td>11.0</td>\n",
       "      <td>53.0</td>\n",
       "      <td>2022-06-01 13:53:00</td>\n",
       "      <td>13.0</td>\n",
       "      <td>53.0</td>\n",
       "      <td>SEA</td>\n",
       "    </tr>\n",
       "  </tbody>\n",
       "</table>\n",
       "<p>1 rows × 22 columns</p>\n",
       "</div>"
      ],
      "text/plain": [
       "     day_ind  temp  dewPt    rh wdir_cardinal  gust  wspd  pressure  \\\n",
       "5693       D  55.0   48.0  77.0           NNE   NaN   7.0     29.55   \n",
       "\n",
       "      precip_hrly      wx_phrase  ... start_day start_month  start_year  \\\n",
       "5693          0.0  Partly Cloudy  ...       1.0         6.0      2022.0   \n",
       "\n",
       "      start_isoweekday  start_hour_gmt  start_minute_gmt      record_end_date  \\\n",
       "5693               2.0            11.0              53.0  2022-06-01 13:53:00   \n",
       "\n",
       "      end_hour_gmt end_minute_gmt  airport_code  \n",
       "5693          13.0           53.0           SEA  \n",
       "\n",
       "[1 rows x 22 columns]"
      ]
     },
     "execution_count": 147,
     "metadata": {},
     "output_type": "execute_result"
    }
   ],
   "source": [
    "test.loc[:,weather_df.columns].head(1).iloc[:,5:]"
   ]
  },
  {
   "cell_type": "code",
   "execution_count": 131,
   "id": "1c23dfc2-ae1c-47c4-a7f3-48aa056f044e",
   "metadata": {},
   "outputs": [
    {
     "data": {
      "text/plain": [
       "Index(['Year', 'Quarter', 'Month', 'DayofMonth', 'DayOfWeek', 'FlightDate',\n",
       "       'Marketing_Airline_Network', 'Operated_or_Branded_Code_Share_Partners',\n",
       "       'DOT_ID_Marketing_Airline', 'IATA_Code_Marketing_Airline',\n",
       "       'Flight_Number_Marketing_Airline', 'Operating_Airline ',\n",
       "       'DOT_ID_Operating_Airline', 'IATA_Code_Operating_Airline',\n",
       "       'Tail_Number', 'Flight_Number_Operating_Airline', 'OriginAirportID',\n",
       "       'OriginAirportSeqID', 'OriginCityMarketID', 'Origin', 'OriginCityName',\n",
       "       'OriginState', 'OriginStateFips', 'OriginStateName', 'OriginWac',\n",
       "       'DestAirportID', 'DestAirportSeqID', 'DestCityMarketID', 'Dest',\n",
       "       'DestCityName', 'DestState', 'DestStateFips', 'DestStateName',\n",
       "       'DestWac', 'CRSDepTime', 'DepTime', 'DepDelay', 'DepDelayMinutes',\n",
       "       'DepDel15', 'DepartureDelayGroups', 'DepTimeBlk', 'TaxiOut',\n",
       "       'WheelsOff', 'WheelsOn', 'TaxiIn', 'CRSArrTime', 'ArrTime', 'ArrDelay',\n",
       "       'ArrDelayMinutes', 'ArrDel15', 'ArrivalDelayGroups', 'ArrTimeBlk',\n",
       "       'Cancelled', 'Diverted', 'CRSElapsedTime', 'ActualElapsedTime',\n",
       "       'AirTime', 'Flights', 'Distance', 'DistanceGroup', 'DivAirportLandings',\n",
       "       'Duplicate', 'Unnamed: 0', 'obs_id', 'obs_name', 'valid_time_gmt',\n",
       "       'expire_time_gmt', 'day_ind', 'temp', 'dewPt', 'rh', 'wdir_cardinal',\n",
       "       'gust', 'wspd', 'pressure', 'precip_hrly', 'wx_phrase', 'location_id',\n",
       "       'record_start_date', 'start_day', 'start_month', 'start_year',\n",
       "       'start_isoweekday', 'start_hour_gmt', 'start_minute_gmt',\n",
       "       'record_end_date', 'end_hour_gmt', 'end_minute_gmt', 'airport_code'],\n",
       "      dtype='object')"
      ]
     },
     "execution_count": 131,
     "metadata": {},
     "output_type": "execute_result"
    }
   ],
   "source": [
    "test.columns"
   ]
  },
  {
   "cell_type": "code",
   "execution_count": 151,
   "id": "80d9527e-ca02-4179-8c85-114cdda9d570",
   "metadata": {},
   "outputs": [],
   "source": [
    "demo_df = test.drop(\"gust\", axis=1).dropna()"
   ]
  },
  {
   "cell_type": "code",
   "execution_count": 153,
   "id": "660e2f51-739f-4253-a997-67607034ab40",
   "metadata": {},
   "outputs": [
    {
     "data": {
      "text/plain": [
       "0"
      ]
     },
     "execution_count": 153,
     "metadata": {},
     "output_type": "execute_result"
    }
   ],
   "source": [
    "demo_df.isna().sum().sum()"
   ]
  },
  {
   "cell_type": "code",
   "execution_count": 155,
   "id": "a2ebf1fe-9d99-4a43-be46-c3a458b0e1cb",
   "metadata": {},
   "outputs": [],
   "source": [
    "demo_df.to_pickle(\"combined_flight_data\")"
   ]
  },
  {
   "cell_type": "code",
   "execution_count": 161,
   "id": "5b3f1f2f-441d-46e8-b9c7-3c7e887584a7",
   "metadata": {},
   "outputs": [
    {
     "data": {
      "text/html": [
       "<div>\n",
       "<style scoped>\n",
       "    .dataframe tbody tr th:only-of-type {\n",
       "        vertical-align: middle;\n",
       "    }\n",
       "\n",
       "    .dataframe tbody tr th {\n",
       "        vertical-align: top;\n",
       "    }\n",
       "\n",
       "    .dataframe thead th {\n",
       "        text-align: right;\n",
       "    }\n",
       "</style>\n",
       "<table border=\"1\" class=\"dataframe\">\n",
       "  <thead>\n",
       "    <tr style=\"text-align: right;\">\n",
       "      <th></th>\n",
       "      <th>temp</th>\n",
       "      <th>dewPt</th>\n",
       "      <th>rh</th>\n",
       "      <th>gust</th>\n",
       "      <th>wspd</th>\n",
       "      <th>pressure</th>\n",
       "      <th>precip_hrly</th>\n",
       "      <th>start_day</th>\n",
       "      <th>start_month</th>\n",
       "      <th>start_year</th>\n",
       "      <th>start_isoweekday</th>\n",
       "      <th>start_hour_gmt</th>\n",
       "      <th>start_minute_gmt</th>\n",
       "      <th>end_hour_gmt</th>\n",
       "      <th>end_minute_gmt</th>\n",
       "    </tr>\n",
       "  </thead>\n",
       "  <tbody>\n",
       "    <tr>\n",
       "      <th>count</th>\n",
       "      <td>19146.0</td>\n",
       "      <td>19146.0</td>\n",
       "      <td>19146.0</td>\n",
       "      <td>0.0</td>\n",
       "      <td>19146.0</td>\n",
       "      <td>19146.00</td>\n",
       "      <td>19146.0</td>\n",
       "      <td>19146.0</td>\n",
       "      <td>19146.0</td>\n",
       "      <td>19146.0</td>\n",
       "      <td>19146.0</td>\n",
       "      <td>19146.0</td>\n",
       "      <td>19146.0</td>\n",
       "      <td>19146.0</td>\n",
       "      <td>19146.0</td>\n",
       "    </tr>\n",
       "    <tr>\n",
       "      <th>mean</th>\n",
       "      <td>55.0</td>\n",
       "      <td>48.0</td>\n",
       "      <td>77.0</td>\n",
       "      <td>NaN</td>\n",
       "      <td>7.0</td>\n",
       "      <td>29.55</td>\n",
       "      <td>0.0</td>\n",
       "      <td>1.0</td>\n",
       "      <td>6.0</td>\n",
       "      <td>2022.0</td>\n",
       "      <td>2.0</td>\n",
       "      <td>11.0</td>\n",
       "      <td>53.0</td>\n",
       "      <td>13.0</td>\n",
       "      <td>53.0</td>\n",
       "    </tr>\n",
       "    <tr>\n",
       "      <th>std</th>\n",
       "      <td>0.0</td>\n",
       "      <td>0.0</td>\n",
       "      <td>0.0</td>\n",
       "      <td>NaN</td>\n",
       "      <td>0.0</td>\n",
       "      <td>0.00</td>\n",
       "      <td>0.0</td>\n",
       "      <td>0.0</td>\n",
       "      <td>0.0</td>\n",
       "      <td>0.0</td>\n",
       "      <td>0.0</td>\n",
       "      <td>0.0</td>\n",
       "      <td>0.0</td>\n",
       "      <td>0.0</td>\n",
       "      <td>0.0</td>\n",
       "    </tr>\n",
       "    <tr>\n",
       "      <th>min</th>\n",
       "      <td>55.0</td>\n",
       "      <td>48.0</td>\n",
       "      <td>77.0</td>\n",
       "      <td>NaN</td>\n",
       "      <td>7.0</td>\n",
       "      <td>29.55</td>\n",
       "      <td>0.0</td>\n",
       "      <td>1.0</td>\n",
       "      <td>6.0</td>\n",
       "      <td>2022.0</td>\n",
       "      <td>2.0</td>\n",
       "      <td>11.0</td>\n",
       "      <td>53.0</td>\n",
       "      <td>13.0</td>\n",
       "      <td>53.0</td>\n",
       "    </tr>\n",
       "    <tr>\n",
       "      <th>25%</th>\n",
       "      <td>55.0</td>\n",
       "      <td>48.0</td>\n",
       "      <td>77.0</td>\n",
       "      <td>NaN</td>\n",
       "      <td>7.0</td>\n",
       "      <td>29.55</td>\n",
       "      <td>0.0</td>\n",
       "      <td>1.0</td>\n",
       "      <td>6.0</td>\n",
       "      <td>2022.0</td>\n",
       "      <td>2.0</td>\n",
       "      <td>11.0</td>\n",
       "      <td>53.0</td>\n",
       "      <td>13.0</td>\n",
       "      <td>53.0</td>\n",
       "    </tr>\n",
       "    <tr>\n",
       "      <th>50%</th>\n",
       "      <td>55.0</td>\n",
       "      <td>48.0</td>\n",
       "      <td>77.0</td>\n",
       "      <td>NaN</td>\n",
       "      <td>7.0</td>\n",
       "      <td>29.55</td>\n",
       "      <td>0.0</td>\n",
       "      <td>1.0</td>\n",
       "      <td>6.0</td>\n",
       "      <td>2022.0</td>\n",
       "      <td>2.0</td>\n",
       "      <td>11.0</td>\n",
       "      <td>53.0</td>\n",
       "      <td>13.0</td>\n",
       "      <td>53.0</td>\n",
       "    </tr>\n",
       "    <tr>\n",
       "      <th>75%</th>\n",
       "      <td>55.0</td>\n",
       "      <td>48.0</td>\n",
       "      <td>77.0</td>\n",
       "      <td>NaN</td>\n",
       "      <td>7.0</td>\n",
       "      <td>29.55</td>\n",
       "      <td>0.0</td>\n",
       "      <td>1.0</td>\n",
       "      <td>6.0</td>\n",
       "      <td>2022.0</td>\n",
       "      <td>2.0</td>\n",
       "      <td>11.0</td>\n",
       "      <td>53.0</td>\n",
       "      <td>13.0</td>\n",
       "      <td>53.0</td>\n",
       "    </tr>\n",
       "    <tr>\n",
       "      <th>max</th>\n",
       "      <td>55.0</td>\n",
       "      <td>48.0</td>\n",
       "      <td>77.0</td>\n",
       "      <td>NaN</td>\n",
       "      <td>7.0</td>\n",
       "      <td>29.55</td>\n",
       "      <td>0.0</td>\n",
       "      <td>1.0</td>\n",
       "      <td>6.0</td>\n",
       "      <td>2022.0</td>\n",
       "      <td>2.0</td>\n",
       "      <td>11.0</td>\n",
       "      <td>53.0</td>\n",
       "      <td>13.0</td>\n",
       "      <td>53.0</td>\n",
       "    </tr>\n",
       "  </tbody>\n",
       "</table>\n",
       "</div>"
      ],
      "text/plain": [
       "          temp    dewPt       rh  gust     wspd  pressure  precip_hrly  \\\n",
       "count  19146.0  19146.0  19146.0   0.0  19146.0  19146.00      19146.0   \n",
       "mean      55.0     48.0     77.0   NaN      7.0     29.55          0.0   \n",
       "std        0.0      0.0      0.0   NaN      0.0      0.00          0.0   \n",
       "min       55.0     48.0     77.0   NaN      7.0     29.55          0.0   \n",
       "25%       55.0     48.0     77.0   NaN      7.0     29.55          0.0   \n",
       "50%       55.0     48.0     77.0   NaN      7.0     29.55          0.0   \n",
       "75%       55.0     48.0     77.0   NaN      7.0     29.55          0.0   \n",
       "max       55.0     48.0     77.0   NaN      7.0     29.55          0.0   \n",
       "\n",
       "       start_day  start_month  start_year  start_isoweekday  start_hour_gmt  \\\n",
       "count    19146.0      19146.0     19146.0           19146.0         19146.0   \n",
       "mean         1.0          6.0      2022.0               2.0            11.0   \n",
       "std          0.0          0.0         0.0               0.0             0.0   \n",
       "min          1.0          6.0      2022.0               2.0            11.0   \n",
       "25%          1.0          6.0      2022.0               2.0            11.0   \n",
       "50%          1.0          6.0      2022.0               2.0            11.0   \n",
       "75%          1.0          6.0      2022.0               2.0            11.0   \n",
       "max          1.0          6.0      2022.0               2.0            11.0   \n",
       "\n",
       "       start_minute_gmt  end_hour_gmt  end_minute_gmt  \n",
       "count           19146.0       19146.0         19146.0  \n",
       "mean               53.0          13.0            53.0  \n",
       "std                 0.0           0.0             0.0  \n",
       "min                53.0          13.0            53.0  \n",
       "25%                53.0          13.0            53.0  \n",
       "50%                53.0          13.0            53.0  \n",
       "75%                53.0          13.0            53.0  \n",
       "max                53.0          13.0            53.0  "
      ]
     },
     "execution_count": 161,
     "metadata": {},
     "output_type": "execute_result"
    }
   ],
   "source": [
    "test.describe().iloc[:,-15:]"
   ]
  },
  {
   "cell_type": "code",
   "execution_count": 179,
   "id": "5cdd5d10-ebf8-470b-b01d-53d68bdf49a8",
   "metadata": {},
   "outputs": [
    {
     "data": {
      "text/plain": [
       "Unnamed: 0           0\n",
       "obs_id               0\n",
       "obs_name             0\n",
       "valid_time_gmt       0\n",
       "expire_time_gmt      0\n",
       "day_ind              0\n",
       "temp                 0\n",
       "dewPt                0\n",
       "rh                   0\n",
       "wdir_cardinal        0\n",
       "gust                 0\n",
       "wspd                 0\n",
       "pressure             0\n",
       "precip_hrly          0\n",
       "wx_phrase            0\n",
       "location_id          0\n",
       "record_start_date    0\n",
       "start_day            0\n",
       "start_month          0\n",
       "start_year           0\n",
       "start_isoweekday     0\n",
       "start_hour_gmt       0\n",
       "start_minute_gmt     0\n",
       "record_end_date      0\n",
       "end_hour_gmt         0\n",
       "end_minute_gmt       0\n",
       "airport_code         0\n",
       "dtype: int64"
      ]
     },
     "execution_count": 179,
     "metadata": {},
     "output_type": "execute_result"
    }
   ],
   "source": [
    "weather_df[weather_df.airport_code == \"SEA\"].isna().sum()"
   ]
  },
  {
   "cell_type": "code",
   "execution_count": 171,
   "id": "0f7c3513-6d3d-43b5-b4af-717be95439dd",
   "metadata": {},
   "outputs": [
    {
     "data": {
      "text/plain": [
       "1638"
      ]
     },
     "execution_count": 171,
     "metadata": {},
     "output_type": "execute_result"
    }
   ],
   "source": [
    "sum(weather_df[weather_df.airport_code == \"SEA\"].gust > 0)"
   ]
  },
  {
   "cell_type": "code",
   "execution_count": 180,
   "id": "df81c85a-ef3d-4987-8fde-8a0a1b1978c4",
   "metadata": {},
   "outputs": [
    {
     "data": {
      "text/plain": [
       "(707304, 27)"
      ]
     },
     "execution_count": 180,
     "metadata": {},
     "output_type": "execute_result"
    }
   ],
   "source": [
    "weather_df.shape"
   ]
  },
  {
   "cell_type": "code",
   "execution_count": 182,
   "id": "b9f37253-5209-491f-a8bf-726fb9ba6664",
   "metadata": {},
   "outputs": [
    {
     "data": {
      "text/plain": [
       "0"
      ]
     },
     "execution_count": 182,
     "metadata": {},
     "output_type": "execute_result"
    }
   ],
   "source": [
    "flight_df.isna().sum().sum()"
   ]
  },
  {
   "cell_type": "code",
   "execution_count": null,
   "id": "5ab4d104-432d-476a-a8c6-0cad1949d565",
   "metadata": {},
   "outputs": [],
   "source": []
  }
 ],
 "metadata": {
  "kernelspec": {
   "display_name": "Python 3 (ipykernel)",
   "language": "python",
   "name": "python3"
  },
  "language_info": {
   "codemirror_mode": {
    "name": "ipython",
    "version": 3
   },
   "file_extension": ".py",
   "mimetype": "text/x-python",
   "name": "python",
   "nbconvert_exporter": "python",
   "pygments_lexer": "ipython3",
   "version": "3.10.6"
  }
 },
 "nbformat": 4,
 "nbformat_minor": 5
}
