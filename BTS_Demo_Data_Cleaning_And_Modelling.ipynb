{
 "cells": [
  {
   "cell_type": "code",
   "execution_count": 18,
   "id": "1c6305a7-d98e-4a36-a774-0d213587dc00",
   "metadata": {},
   "outputs": [],
   "source": [
    "import pandas as pd\n",
    "from sklearn.compose import ColumnTransformer\n",
    "from sklearn.preprocessing import OneHotEncoder, StandardScaler\n",
    "from sklearn.model_selection import train_test_split\n",
    "import pickle\n",
    "\n",
    "import matplotlib.pyplot as plt\n",
    "\n",
    "\n",
    "import pandas as pd\n",
    "import pickle\n",
    "import numpy as np\n",
    "\n",
    "import matplotlib.pyplot as plt\n",
    "from sklearn.model_selection import GridSearchCV\n",
    "from sklearn.metrics import ConfusionMatrixDisplay\n",
    "from sklearn.linear_model import LogisticRegression\n",
    "from sklearn.neighbors import KNeighborsClassifier\n",
    "from sklearn.ensemble import RandomForestClassifier, AdaBoostClassifier\n",
    "from sklearn.metrics import confusion_matrix"
   ]
  },
  {
   "cell_type": "code",
   "execution_count": 2,
   "id": "ba55476f-609c-4d1e-8e22-fd2bde0433b2",
   "metadata": {},
   "outputs": [],
   "source": [
    "# Reading in the cleaned dataset\n",
    "delay_df = pd.read_pickle(\"combined_flight_data\")"
   ]
  },
  {
   "cell_type": "code",
   "execution_count": 5,
   "id": "382eb213-0a95-451b-8042-e4cfc6084b69",
   "metadata": {},
   "outputs": [],
   "source": [
    "# Extracting target delay data column from the dataset\n",
    "delayed = delay_df[['ArrDel15']]\n",
    "delay_df = delay_df.drop(\"ArrDel15\",axis=1)"
   ]
  },
  {
   "cell_type": "code",
   "execution_count": 9,
   "id": "518489cb-5f01-41be-a52d-b59564439109",
   "metadata": {},
   "outputs": [],
   "source": [
    "# Defining relevant columns and trimming the dataset down to relevant columns\n",
    "relevant_flight_cols = ['Year', 'Quarter', 'Month', 'DayofMonth', 'DayOfWeek', 'Distance',\n",
    "                        'Origin', 'OriginCityName', 'OriginStateName', 'OriginCityMarketID',\n",
    "                        'Dest', 'DestCityName', 'DestStateName', 'DestCityMarketID'\n",
    "                        #,'Reporting_Airline', 'ActualElapsedTime', 'AirTime'\n",
    "                        ]\n",
    "relevant_weather_cols = ['temp', 'dewPt', 'wspd', 'pressure', 'precip_hrly']\n",
    "relevant_columns = relevant_flight_cols + relevant_weather_cols\n",
    "delay_df = delay_df[relevant_columns]"
   ]
  },
  {
   "cell_type": "markdown",
   "id": "8973a942-ce8f-42fe-95b4-38dd51ec4072",
   "metadata": {},
   "source": [
    "#### To-Do\n",
    "\n",
    "* Revise dataset to include 'Reporting_Airline'"
   ]
  },
  {
   "cell_type": "code",
   "execution_count": 10,
   "id": "07aad843-c540-4d9a-b16b-b8a72ccc4494",
   "metadata": {},
   "outputs": [
    {
     "data": {
      "text/plain": [
       "['Year',\n",
       " 'Quarter',\n",
       " 'Month',\n",
       " 'DayofMonth',\n",
       " 'DayOfWeek',\n",
       " 'Distance',\n",
       " 'Origin',\n",
       " 'OriginCityName',\n",
       " 'OriginStateName',\n",
       " 'OriginCityMarketID',\n",
       " 'Dest',\n",
       " 'DestCityName',\n",
       " 'DestStateName',\n",
       " 'DestCityMarketID',\n",
       " 'temp',\n",
       " 'dewPt',\n",
       " 'wspd',\n",
       " 'pressure',\n",
       " 'precip_hrly']"
      ]
     },
     "execution_count": 10,
     "metadata": {},
     "output_type": "execute_result"
    }
   ],
   "source": [
    "delay_df.columns.tolist()"
   ]
  },
  {
   "cell_type": "code",
   "execution_count": 11,
   "id": "c8b4d671-74a1-4a1f-93be-f6d30386462d",
   "metadata": {},
   "outputs": [
    {
     "name": "stderr",
     "output_type": "stream",
     "text": [
      "C:\\Users\\bruno\\AppData\\Local\\Temp\\ipykernel_31624\\1134623195.py:2: SettingWithCopyWarning: \n",
      "A value is trying to be set on a copy of a slice from a DataFrame.\n",
      "Try using .loc[row_indexer,col_indexer] = value instead\n",
      "\n",
      "See the caveats in the documentation: https://pandas.pydata.org/pandas-docs/stable/user_guide/indexing.html#returning-a-view-versus-a-copy\n",
      "  delay_df.OriginCityMarketID = delay_df.OriginCityMarketID.astype(str)\n",
      "C:\\Users\\bruno\\AppData\\Local\\Temp\\ipykernel_31624\\1134623195.py:3: SettingWithCopyWarning: \n",
      "A value is trying to be set on a copy of a slice from a DataFrame.\n",
      "Try using .loc[row_indexer,col_indexer] = value instead\n",
      "\n",
      "See the caveats in the documentation: https://pandas.pydata.org/pandas-docs/stable/user_guide/indexing.html#returning-a-view-versus-a-copy\n",
      "  delay_df.DestCityMarketID = delay_df.DestCityMarketID.astype(str)\n"
     ]
    }
   ],
   "source": [
    "# Converting ID numbers to categorical string data\n",
    "delay_df.OriginCityMarketID = delay_df.OriginCityMarketID.astype(str)\n",
    "delay_df.DestCityMarketID = delay_df.DestCityMarketID.astype(str)"
   ]
  },
  {
   "cell_type": "code",
   "execution_count": 12,
   "id": "7de7a3a5-ea13-4ac4-bd8d-621e043318e3",
   "metadata": {},
   "outputs": [],
   "source": [
    "# Splitting the data into training and testing data\n",
    "X_train, X_test, y_train, y_test = train_test_split(delay_df, delayed, stratify=delayed)"
   ]
  },
  {
   "cell_type": "code",
   "execution_count": 13,
   "id": "98d12862-4605-4b05-9d6b-9b346db70f58",
   "metadata": {},
   "outputs": [],
   "source": [
    "# Recording which columns are numeric and which are categorical\n",
    "numeric_cols = X_train.dtypes[(X_train.dtypes == 'int64') | (X_train.dtypes == 'float64')].index.tolist()\n",
    "non_numeric_cols = X_train.dtypes[(X_train.dtypes != 'int64') & (X_train.dtypes != 'float64')].index.tolist()"
   ]
  },
  {
   "cell_type": "code",
   "execution_count": 14,
   "id": "96e6e480-f415-41cd-ae3f-47ca5f059cfa",
   "metadata": {},
   "outputs": [],
   "source": [
    "# Creating a transformer object to scale numeric data and encode categorical data\n",
    "encoder = ColumnTransformer([\n",
    "    ('scaler', StandardScaler(), numeric_cols),\n",
    "    ('one_hot', OneHotEncoder(drop='first', handle_unknown='ignore'), non_numeric_cols)],\n",
    "    remainder='passthrough',\n",
    "    verbose_feature_names_out=False\n",
    ")"
   ]
  },
  {
   "cell_type": "code",
   "execution_count": 15,
   "id": "0aa250a4-246e-4e37-a900-a3f7f1c40893",
   "metadata": {},
   "outputs": [],
   "source": [
    "# Applying pre-processing transformations\n",
    "encoder.fit(X_train)\n",
    "X_train_sparse = encoder.transform(X_train)\n",
    "X_train_columns = encoder.get_feature_names_out()\n",
    "X_test_sparse = encoder.transform(X_test)\n",
    "X_test_columns = encoder.get_feature_names_out()"
   ]
  },
  {
   "cell_type": "markdown",
   "id": "1504db61-bdeb-4723-bc95-1dcf2d0077a4",
   "metadata": {},
   "source": [
    "**In case of too much data, break glass:**"
   ]
  },
  {
   "cell_type": "markdown",
   "id": "8b32488e-b6c0-4537-9cac-9b1e25d788c3",
   "metadata": {},
   "source": [
    "# Extracting a representative sample from the dataset\n",
    "training_set_samples = np.random.choice(X_train_sparse.shape[0], X_train_sparse.shape[0]//100, replace=False)\n",
    "X_train_sparse = X_train_sparse[training_set_samples, :]\n",
    "y_train = y_train.reset_index().drop('index',axis=1).loc[training_set_samples.tolist()]['ArrDel15']"
   ]
  },
  {
   "cell_type": "code",
   "execution_count": 16,
   "id": "70b56e27-15e5-49d2-8601-1a606edee3e6",
   "metadata": {},
   "outputs": [
    {
     "data": {
      "text/plain": [
       "ArrDel15\n",
       "0.0         0.837106\n",
       "1.0         0.162894\n",
       "Name: proportion, dtype: float64"
      ]
     },
     "execution_count": 16,
     "metadata": {},
     "output_type": "execute_result"
    }
   ],
   "source": [
    "# Displaying the baseline classifier accuracy\n",
    "y_train.value_counts(normalize=True)"
   ]
  },
  {
   "cell_type": "code",
   "execution_count": 21,
   "id": "9d41cd01-320a-4833-8f64-74815834a3bf",
   "metadata": {},
   "outputs": [
    {
     "name": "stdout",
     "output_type": "stream",
     "text": [
      "Training accuracy: 0.8371056480256285\n",
      "Testing accuracy: 0.8370587006475873\n"
     ]
    }
   ],
   "source": [
    "# Defining logistic regression parameters to sweep over\n",
    "logreg_params = {\n",
    "    'penalty':['l1','l2'],\n",
    "    'C':[0.1,1,10]\n",
    "}\n",
    "# GridSearching logistic regression classifiers\n",
    "logreg_grid = GridSearchCV(LogisticRegression(solver='liblinear'), logreg_params, n_jobs=-2)\n",
    "logreg_grid.fit(X_train_sparse, np.ravel(y_train))\n",
    "# Printing out train and test accuracy scores\n",
    "print(f'Training accuracy: {logreg_grid.score(X_train_sparse, y_train)}')\n",
    "print(f'Testing accuracy: {logreg_grid.score(X_test_sparse, y_test)}')"
   ]
  },
  {
   "cell_type": "code",
   "execution_count": 22,
   "id": "e70240b0-622a-4b6a-a92f-d814fb7dcad7",
   "metadata": {},
   "outputs": [
    {
     "data": {
      "image/png": "[encoded data removed]",
      "text/plain": [
       "<Figure size 640x480 with 2 Axes>"
      ]
     },
     "metadata": {},
     "output_type": "display_data"
    }
   ],
   "source": [
    "ConfusionMatrixDisplay.from_estimator(logreg_grid, X_test_sparse, y_test, cmap='magma');\n",
    "plt.title('Logistic Regression Confusion Matrix');"
   ]
  },
  {
   "cell_type": "code",
   "execution_count": 23,
   "id": "85a70094-4a04-4072-b780-833f31d02885",
   "metadata": {},
   "outputs": [
    {
     "name": "stderr",
     "output_type": "stream",
     "text": [
      "C:\\Users\\bruno\\AppData\\Local\\Programs\\Python\\Python310\\lib\\site-packages\\sklearn\\base.py:1152: DataConversionWarning: A column-vector y was passed when a 1d array was expected. Please change the shape of y to (n_samples,), for example using ravel().\n",
      "  return fit_method(estimator, *args, **kwargs)\n"
     ]
    },
    {
     "name": "stdout",
     "output_type": "stream",
     "text": [
      "Training accuracy: 0.8371056480256285\n",
      "Testing accuracy: 0.8370587006475873\n"
     ]
    }
   ],
   "source": [
    "# Defining random forest parameters to sweep over\n",
    "rfc_params = {\n",
    "    'n_estimators':[100,1000],\n",
    "    'max_depth':[100,1000],\n",
    "    'ccp_alpha':[0, 0.1]\n",
    "}\n",
    "# GridSearching random forest classifiers\n",
    "rfc_grid = GridSearchCV(RandomForestClassifier(), rfc_params, n_jobs=-2)\n",
    "rfc_grid.fit(X_train_sparse, y_train)\n",
    "# Displaying train and test scores\n",
    "print(f'Training accuracy: {rfc_grid.score(X_train_sparse, y_train)}')\n",
    "print(f'Testing accuracy: {rfc_grid.score(X_test_sparse, y_test)}')"
   ]
  },
  {
   "cell_type": "code",
   "execution_count": 24,
   "id": "925440b7-6f6d-4d0a-8426-d778da22085c",
   "metadata": {},
   "outputs": [
    {
     "data": {
      "image/png": "[encoded data removed]",
      "text/plain": [
       "<Figure size 640x480 with 2 Axes>"
      ]
     },
     "metadata": {},
     "output_type": "display_data"
    }
   ],
   "source": [
    "ConfusionMatrixDisplay.from_estimator(rfc_grid, X_test_sparse, y_test, cmap='magma');\n",
    "plt.title('Random Forest Confusion Matrix');"
   ]
  },
  {
   "cell_type": "code",
   "execution_count": null,
   "id": "bddbbeff-9dbe-4095-bddf-aada809f38a8",
   "metadata": {},
   "outputs": [],
   "source": []
  }
 ],
 "metadata": {
  "kernelspec": {
   "display_name": "Python 3 (ipykernel)",
   "language": "python",
   "name": "python3"
  },
  "language_info": {
   "codemirror_mode": {
    "name": "ipython",
    "version": 3
   },
   "file_extension": ".py",
   "mimetype": "text/x-python",
   "name": "python",
   "nbconvert_exporter": "python",
   "pygments_lexer": "ipython3",
   "version": "3.10.6"
  }
 },
 "nbformat": 4,
 "nbformat_minor": 5
}
